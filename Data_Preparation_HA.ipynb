{
  "nbformat": 4,
  "nbformat_minor": 0,
  "metadata": {
    "colab": {
      "provenance": []
    },
    "kernelspec": {
      "name": "python3",
      "display_name": "Python 3"
    },
    "language_info": {
      "name": "python"
    }
  },
  "cells": [
    {
      "cell_type": "markdown",
      "source": [
        "# Basics"
      ],
      "metadata": {
        "id": "QKBpNOiv_jG_"
      }
    },
    {
      "cell_type": "code",
      "execution_count": null,
      "metadata": {
        "id": "iYwqyF1zNToI"
      },
      "outputs": [],
      "source": [
        "import pandas as pd\n",
        "import numpy as np\n",
        "import matplotlib.pyplot as plt"
      ]
    },
    {
      "cell_type": "markdown",
      "source": [
        "Give the location or the path of the two required csv files."
      ],
      "metadata": {
        "id": "12Sdoz8NRcA-"
      }
    },
    {
      "cell_type": "code",
      "source": [
        "cats_uk_path = \"/content/cats_uk.csv\"\n",
        "cats_uk_reference_path = \"/content/cats_uk_reference.csv\""
      ],
      "metadata": {
        "id": "cWShuRtON-wK"
      },
      "execution_count": null,
      "outputs": []
    },
    {
      "cell_type": "markdown",
      "source": [
        "Create the DataFrame from the cats_uk.csv file"
      ],
      "metadata": {
        "id": "_1Nf_lgqR583"
      }
    },
    {
      "cell_type": "code",
      "source": [
        "df1 = pd.read_csv(cats_uk_path)\n",
        "df1.head(5)"
      ],
      "metadata": {
        "colab": {
          "base_uri": "https://localhost:8080/",
          "height": 400
        },
        "id": "cp6o7N7MRqaI",
        "outputId": "dad3f208-8c23-4e59-a7db-9188fc42fc39"
      },
      "execution_count": null,
      "outputs": [
        {
          "output_type": "execute_result",
          "data": {
            "text/plain": [
              "  tag_id    event_id  visible             timestamp  location_long  \\\n",
              "0   Ares  3395610551     True  2017-06-24T01:03:57Z      -5.113851   \n",
              "1   Ares  3395610552     True  2017-06-24T01:11:20Z      -5.113851   \n",
              "2   Ares  3395610553     True  2017-06-24T02:58:16Z      -5.113730   \n",
              "3   Ares  3395610554     True  2017-06-24T03:01:26Z      -5.113774   \n",
              "4   Ares  3395610555     True  2017-06-24T03:51:58Z      -5.114247   \n",
              "\n",
              "   location_lat  ground_speed  height_above_ellipsoid  \\\n",
              "0     50.170315           684                  154.67   \n",
              "1     50.170315           936                  154.67   \n",
              "2     50.169876          2340                   81.35   \n",
              "3     50.169827             0                   67.82   \n",
              "4     50.170139          4896                  118.03   \n",
              "\n",
              "   algorithm_marked_outlier  manually_marked_outlier               study_name  \n",
              "0                     False                    False  Pet Cats United Kingdom  \n",
              "1                     False                    False  Pet Cats United Kingdom  \n",
              "2                     False                    False  Pet Cats United Kingdom  \n",
              "3                     False                    False  Pet Cats United Kingdom  \n",
              "4                     False                    False  Pet Cats United Kingdom  "
            ],
            "text/html": [
              "\n",
              "  <div id=\"df-fe7f476a-4df3-490a-a017-8a72a0077eac\" class=\"colab-df-container\">\n",
              "    <div>\n",
              "<style scoped>\n",
              "    .dataframe tbody tr th:only-of-type {\n",
              "        vertical-align: middle;\n",
              "    }\n",
              "\n",
              "    .dataframe tbody tr th {\n",
              "        vertical-align: top;\n",
              "    }\n",
              "\n",
              "    .dataframe thead th {\n",
              "        text-align: right;\n",
              "    }\n",
              "</style>\n",
              "<table border=\"1\" class=\"dataframe\">\n",
              "  <thead>\n",
              "    <tr style=\"text-align: right;\">\n",
              "      <th></th>\n",
              "      <th>tag_id</th>\n",
              "      <th>event_id</th>\n",
              "      <th>visible</th>\n",
              "      <th>timestamp</th>\n",
              "      <th>location_long</th>\n",
              "      <th>location_lat</th>\n",
              "      <th>ground_speed</th>\n",
              "      <th>height_above_ellipsoid</th>\n",
              "      <th>algorithm_marked_outlier</th>\n",
              "      <th>manually_marked_outlier</th>\n",
              "      <th>study_name</th>\n",
              "    </tr>\n",
              "  </thead>\n",
              "  <tbody>\n",
              "    <tr>\n",
              "      <th>0</th>\n",
              "      <td>Ares</td>\n",
              "      <td>3395610551</td>\n",
              "      <td>True</td>\n",
              "      <td>2017-06-24T01:03:57Z</td>\n",
              "      <td>-5.113851</td>\n",
              "      <td>50.170315</td>\n",
              "      <td>684</td>\n",
              "      <td>154.67</td>\n",
              "      <td>False</td>\n",
              "      <td>False</td>\n",
              "      <td>Pet Cats United Kingdom</td>\n",
              "    </tr>\n",
              "    <tr>\n",
              "      <th>1</th>\n",
              "      <td>Ares</td>\n",
              "      <td>3395610552</td>\n",
              "      <td>True</td>\n",
              "      <td>2017-06-24T01:11:20Z</td>\n",
              "      <td>-5.113851</td>\n",
              "      <td>50.170315</td>\n",
              "      <td>936</td>\n",
              "      <td>154.67</td>\n",
              "      <td>False</td>\n",
              "      <td>False</td>\n",
              "      <td>Pet Cats United Kingdom</td>\n",
              "    </tr>\n",
              "    <tr>\n",
              "      <th>2</th>\n",
              "      <td>Ares</td>\n",
              "      <td>3395610553</td>\n",
              "      <td>True</td>\n",
              "      <td>2017-06-24T02:58:16Z</td>\n",
              "      <td>-5.113730</td>\n",
              "      <td>50.169876</td>\n",
              "      <td>2340</td>\n",
              "      <td>81.35</td>\n",
              "      <td>False</td>\n",
              "      <td>False</td>\n",
              "      <td>Pet Cats United Kingdom</td>\n",
              "    </tr>\n",
              "    <tr>\n",
              "      <th>3</th>\n",
              "      <td>Ares</td>\n",
              "      <td>3395610554</td>\n",
              "      <td>True</td>\n",
              "      <td>2017-06-24T03:01:26Z</td>\n",
              "      <td>-5.113774</td>\n",
              "      <td>50.169827</td>\n",
              "      <td>0</td>\n",
              "      <td>67.82</td>\n",
              "      <td>False</td>\n",
              "      <td>False</td>\n",
              "      <td>Pet Cats United Kingdom</td>\n",
              "    </tr>\n",
              "    <tr>\n",
              "      <th>4</th>\n",
              "      <td>Ares</td>\n",
              "      <td>3395610555</td>\n",
              "      <td>True</td>\n",
              "      <td>2017-06-24T03:51:58Z</td>\n",
              "      <td>-5.114247</td>\n",
              "      <td>50.170139</td>\n",
              "      <td>4896</td>\n",
              "      <td>118.03</td>\n",
              "      <td>False</td>\n",
              "      <td>False</td>\n",
              "      <td>Pet Cats United Kingdom</td>\n",
              "    </tr>\n",
              "  </tbody>\n",
              "</table>\n",
              "</div>\n",
              "    <div class=\"colab-df-buttons\">\n",
              "\n",
              "  <div class=\"colab-df-container\">\n",
              "    <button class=\"colab-df-convert\" onclick=\"convertToInteractive('df-fe7f476a-4df3-490a-a017-8a72a0077eac')\"\n",
              "            title=\"Convert this dataframe to an interactive table.\"\n",
              "            style=\"display:none;\">\n",
              "\n",
              "  <svg xmlns=\"http://www.w3.org/2000/svg\" height=\"24px\" viewBox=\"0 -960 960 960\">\n",
              "    <path d=\"M120-120v-720h720v720H120Zm60-500h600v-160H180v160Zm220 220h160v-160H400v160Zm0 220h160v-160H400v160ZM180-400h160v-160H180v160Zm440 0h160v-160H620v160ZM180-180h160v-160H180v160Zm440 0h160v-160H620v160Z\"/>\n",
              "  </svg>\n",
              "    </button>\n",
              "\n",
              "  <style>\n",
              "    .colab-df-container {\n",
              "      display:flex;\n",
              "      gap: 12px;\n",
              "    }\n",
              "\n",
              "    .colab-df-convert {\n",
              "      background-color: #E8F0FE;\n",
              "      border: none;\n",
              "      border-radius: 50%;\n",
              "      cursor: pointer;\n",
              "      display: none;\n",
              "      fill: #1967D2;\n",
              "      height: 32px;\n",
              "      padding: 0 0 0 0;\n",
              "      width: 32px;\n",
              "    }\n",
              "\n",
              "    .colab-df-convert:hover {\n",
              "      background-color: #E2EBFA;\n",
              "      box-shadow: 0px 1px 2px rgba(60, 64, 67, 0.3), 0px 1px 3px 1px rgba(60, 64, 67, 0.15);\n",
              "      fill: #174EA6;\n",
              "    }\n",
              "\n",
              "    .colab-df-buttons div {\n",
              "      margin-bottom: 4px;\n",
              "    }\n",
              "\n",
              "    [theme=dark] .colab-df-convert {\n",
              "      background-color: #3B4455;\n",
              "      fill: #D2E3FC;\n",
              "    }\n",
              "\n",
              "    [theme=dark] .colab-df-convert:hover {\n",
              "      background-color: #434B5C;\n",
              "      box-shadow: 0px 1px 3px 1px rgba(0, 0, 0, 0.15);\n",
              "      filter: drop-shadow(0px 1px 2px rgba(0, 0, 0, 0.3));\n",
              "      fill: #FFFFFF;\n",
              "    }\n",
              "  </style>\n",
              "\n",
              "    <script>\n",
              "      const buttonEl =\n",
              "        document.querySelector('#df-fe7f476a-4df3-490a-a017-8a72a0077eac button.colab-df-convert');\n",
              "      buttonEl.style.display =\n",
              "        google.colab.kernel.accessAllowed ? 'block' : 'none';\n",
              "\n",
              "      async function convertToInteractive(key) {\n",
              "        const element = document.querySelector('#df-fe7f476a-4df3-490a-a017-8a72a0077eac');\n",
              "        const dataTable =\n",
              "          await google.colab.kernel.invokeFunction('convertToInteractive',\n",
              "                                                    [key], {});\n",
              "        if (!dataTable) return;\n",
              "\n",
              "        const docLinkHtml = 'Like what you see? Visit the ' +\n",
              "          '<a target=\"_blank\" href=https://colab.research.google.com/notebooks/data_table.ipynb>data table notebook</a>'\n",
              "          + ' to learn more about interactive tables.';\n",
              "        element.innerHTML = '';\n",
              "        dataTable['output_type'] = 'display_data';\n",
              "        await google.colab.output.renderOutput(dataTable, element);\n",
              "        const docLink = document.createElement('div');\n",
              "        docLink.innerHTML = docLinkHtml;\n",
              "        element.appendChild(docLink);\n",
              "      }\n",
              "    </script>\n",
              "  </div>\n",
              "\n",
              "\n",
              "<div id=\"df-e6017102-2fb9-4ec2-88fd-28f1845af517\">\n",
              "  <button class=\"colab-df-quickchart\" onclick=\"quickchart('df-e6017102-2fb9-4ec2-88fd-28f1845af517')\"\n",
              "            title=\"Suggest charts\"\n",
              "            style=\"display:none;\">\n",
              "\n",
              "<svg xmlns=\"http://www.w3.org/2000/svg\" height=\"24px\"viewBox=\"0 0 24 24\"\n",
              "     width=\"24px\">\n",
              "    <g>\n",
              "        <path d=\"M19 3H5c-1.1 0-2 .9-2 2v14c0 1.1.9 2 2 2h14c1.1 0 2-.9 2-2V5c0-1.1-.9-2-2-2zM9 17H7v-7h2v7zm4 0h-2V7h2v10zm4 0h-2v-4h2v4z\"/>\n",
              "    </g>\n",
              "</svg>\n",
              "  </button>\n",
              "\n",
              "<style>\n",
              "  .colab-df-quickchart {\n",
              "      --bg-color: #E8F0FE;\n",
              "      --fill-color: #1967D2;\n",
              "      --hover-bg-color: #E2EBFA;\n",
              "      --hover-fill-color: #174EA6;\n",
              "      --disabled-fill-color: #AAA;\n",
              "      --disabled-bg-color: #DDD;\n",
              "  }\n",
              "\n",
              "  [theme=dark] .colab-df-quickchart {\n",
              "      --bg-color: #3B4455;\n",
              "      --fill-color: #D2E3FC;\n",
              "      --hover-bg-color: #434B5C;\n",
              "      --hover-fill-color: #FFFFFF;\n",
              "      --disabled-bg-color: #3B4455;\n",
              "      --disabled-fill-color: #666;\n",
              "  }\n",
              "\n",
              "  .colab-df-quickchart {\n",
              "    background-color: var(--bg-color);\n",
              "    border: none;\n",
              "    border-radius: 50%;\n",
              "    cursor: pointer;\n",
              "    display: none;\n",
              "    fill: var(--fill-color);\n",
              "    height: 32px;\n",
              "    padding: 0;\n",
              "    width: 32px;\n",
              "  }\n",
              "\n",
              "  .colab-df-quickchart:hover {\n",
              "    background-color: var(--hover-bg-color);\n",
              "    box-shadow: 0 1px 2px rgba(60, 64, 67, 0.3), 0 1px 3px 1px rgba(60, 64, 67, 0.15);\n",
              "    fill: var(--button-hover-fill-color);\n",
              "  }\n",
              "\n",
              "  .colab-df-quickchart-complete:disabled,\n",
              "  .colab-df-quickchart-complete:disabled:hover {\n",
              "    background-color: var(--disabled-bg-color);\n",
              "    fill: var(--disabled-fill-color);\n",
              "    box-shadow: none;\n",
              "  }\n",
              "\n",
              "  .colab-df-spinner {\n",
              "    border: 2px solid var(--fill-color);\n",
              "    border-color: transparent;\n",
              "    border-bottom-color: var(--fill-color);\n",
              "    animation:\n",
              "      spin 1s steps(1) infinite;\n",
              "  }\n",
              "\n",
              "  @keyframes spin {\n",
              "    0% {\n",
              "      border-color: transparent;\n",
              "      border-bottom-color: var(--fill-color);\n",
              "      border-left-color: var(--fill-color);\n",
              "    }\n",
              "    20% {\n",
              "      border-color: transparent;\n",
              "      border-left-color: var(--fill-color);\n",
              "      border-top-color: var(--fill-color);\n",
              "    }\n",
              "    30% {\n",
              "      border-color: transparent;\n",
              "      border-left-color: var(--fill-color);\n",
              "      border-top-color: var(--fill-color);\n",
              "      border-right-color: var(--fill-color);\n",
              "    }\n",
              "    40% {\n",
              "      border-color: transparent;\n",
              "      border-right-color: var(--fill-color);\n",
              "      border-top-color: var(--fill-color);\n",
              "    }\n",
              "    60% {\n",
              "      border-color: transparent;\n",
              "      border-right-color: var(--fill-color);\n",
              "    }\n",
              "    80% {\n",
              "      border-color: transparent;\n",
              "      border-right-color: var(--fill-color);\n",
              "      border-bottom-color: var(--fill-color);\n",
              "    }\n",
              "    90% {\n",
              "      border-color: transparent;\n",
              "      border-bottom-color: var(--fill-color);\n",
              "    }\n",
              "  }\n",
              "</style>\n",
              "\n",
              "  <script>\n",
              "    async function quickchart(key) {\n",
              "      const quickchartButtonEl =\n",
              "        document.querySelector('#' + key + ' button');\n",
              "      quickchartButtonEl.disabled = true;  // To prevent multiple clicks.\n",
              "      quickchartButtonEl.classList.add('colab-df-spinner');\n",
              "      try {\n",
              "        const charts = await google.colab.kernel.invokeFunction(\n",
              "            'suggestCharts', [key], {});\n",
              "      } catch (error) {\n",
              "        console.error('Error during call to suggestCharts:', error);\n",
              "      }\n",
              "      quickchartButtonEl.classList.remove('colab-df-spinner');\n",
              "      quickchartButtonEl.classList.add('colab-df-quickchart-complete');\n",
              "    }\n",
              "    (() => {\n",
              "      let quickchartButtonEl =\n",
              "        document.querySelector('#df-e6017102-2fb9-4ec2-88fd-28f1845af517 button');\n",
              "      quickchartButtonEl.style.display =\n",
              "        google.colab.kernel.accessAllowed ? 'block' : 'none';\n",
              "    })();\n",
              "  </script>\n",
              "</div>\n",
              "    </div>\n",
              "  </div>\n"
            ],
            "application/vnd.google.colaboratory.intrinsic+json": {
              "type": "dataframe",
              "variable_name": "df1",
              "summary": "{\n  \"name\": \"df1\",\n  \"rows\": 18215,\n  \"fields\": [\n    {\n      \"column\": \"tag_id\",\n      \"properties\": {\n        \"dtype\": \"category\",\n        \"num_unique_values\": 101,\n        \"samples\": [\n          \"Pants-Tag\",\n          \"Jezebel-Tag\",\n          \"Guinness-Tag\"\n        ],\n        \"semantic_type\": \"\",\n        \"description\": \"\"\n      }\n    },\n    {\n      \"column\": \"event_id\",\n      \"properties\": {\n        \"dtype\": \"number\",\n        \"std\": 193404826,\n        \"min\": 3395610551,\n        \"max\": 4149497980,\n        \"num_unique_values\": 18215,\n        \"samples\": [\n          3716218238,\n          3670269937,\n          3708864218\n        ],\n        \"semantic_type\": \"\",\n        \"description\": \"\"\n      }\n    },\n    {\n      \"column\": \"visible\",\n      \"properties\": {\n        \"dtype\": \"boolean\",\n        \"num_unique_values\": 2,\n        \"samples\": [\n          false,\n          true\n        ],\n        \"semantic_type\": \"\",\n        \"description\": \"\"\n      }\n    },\n    {\n      \"column\": \"timestamp\",\n      \"properties\": {\n        \"dtype\": \"object\",\n        \"num_unique_values\": 18162,\n        \"samples\": [\n          \"2017-07-30T09:14:00Z\",\n          \"2017-07-30T02:55:32Z\"\n        ],\n        \"semantic_type\": \"\",\n        \"description\": \"\"\n      }\n    },\n    {\n      \"column\": \"location_long\",\n      \"properties\": {\n        \"dtype\": \"number\",\n        \"std\": 0.30149883846010594,\n        \"min\": -5.758854,\n        \"max\": -4.208614,\n        \"num_unique_values\": 14968,\n        \"samples\": [\n          -4.839151,\n          -5.075045\n        ],\n        \"semantic_type\": \"\",\n        \"description\": \"\"\n      }\n    },\n    {\n      \"column\": \"location_lat\",\n      \"properties\": {\n        \"dtype\": \"number\",\n        \"std\": 0.15835336322804647,\n        \"min\": 50.103519,\n        \"max\": 50.882217,\n        \"num_unique_values\": 9396,\n        \"samples\": [\n          50.33831,\n          50.118603\n        ],\n        \"semantic_type\": \"\",\n        \"description\": \"\"\n      }\n    },\n    {\n      \"column\": \"ground_speed\",\n      \"properties\": {\n        \"dtype\": \"number\",\n        \"std\": 4592,\n        \"min\": 0,\n        \"max\": 277092,\n        \"num_unique_values\": 507,\n        \"samples\": [\n          4284,\n          20736\n        ],\n        \"semantic_type\": \"\",\n        \"description\": \"\"\n      }\n    },\n    {\n      \"column\": \"height_above_ellipsoid\",\n      \"properties\": {\n        \"dtype\": \"number\",\n        \"std\": 245.7056650767457,\n        \"min\": -550.07,\n        \"max\": 8388.26,\n        \"num_unique_values\": 11560,\n        \"samples\": [\n          14.95,\n          80.94\n        ],\n        \"semantic_type\": \"\",\n        \"description\": \"\"\n      }\n    },\n    {\n      \"column\": \"algorithm_marked_outlier\",\n      \"properties\": {\n        \"dtype\": \"boolean\",\n        \"num_unique_values\": 2,\n        \"samples\": [\n          true,\n          false\n        ],\n        \"semantic_type\": \"\",\n        \"description\": \"\"\n      }\n    },\n    {\n      \"column\": \"manually_marked_outlier\",\n      \"properties\": {\n        \"dtype\": \"boolean\",\n        \"num_unique_values\": 2,\n        \"samples\": [\n          true,\n          false\n        ],\n        \"semantic_type\": \"\",\n        \"description\": \"\"\n      }\n    },\n    {\n      \"column\": \"study_name\",\n      \"properties\": {\n        \"dtype\": \"category\",\n        \"num_unique_values\": 1,\n        \"samples\": [\n          \"Pet Cats United Kingdom\"\n        ],\n        \"semantic_type\": \"\",\n        \"description\": \"\"\n      }\n    }\n  ]\n}"
            }
          },
          "metadata": {},
          "execution_count": 3
        }
      ]
    },
    {
      "cell_type": "code",
      "source": [
        "df1.shape"
      ],
      "metadata": {
        "colab": {
          "base_uri": "https://localhost:8080/"
        },
        "id": "ubsJGNF_WFpP",
        "outputId": "c2e928e2-a29e-42ec-bf99-a055a9bcaa48"
      },
      "execution_count": null,
      "outputs": [
        {
          "output_type": "execute_result",
          "data": {
            "text/plain": [
              "(18215, 11)"
            ]
          },
          "metadata": {},
          "execution_count": 4
        }
      ]
    },
    {
      "cell_type": "markdown",
      "source": [
        "Main description of the numerical columns of df1"
      ],
      "metadata": {
        "id": "thq6HCm9QcKu"
      }
    },
    {
      "cell_type": "code",
      "source": [
        "df1.describe()"
      ],
      "metadata": {
        "colab": {
          "base_uri": "https://localhost:8080/",
          "height": 300
        },
        "id": "E_Agr1EHQMtF",
        "outputId": "92b903f2-cab3-4181-d56a-93a266c34586"
      },
      "execution_count": null,
      "outputs": [
        {
          "output_type": "execute_result",
          "data": {
            "text/plain": [
              "           event_id  location_long  location_lat   ground_speed  \\\n",
              "count  1.821500e+04   18215.000000  18215.000000   18215.000000   \n",
              "mean   3.618912e+09      -4.988242     50.296238    1911.484381   \n",
              "std    1.934048e+08       0.301499      0.158353    4592.574178   \n",
              "min    3.395611e+09      -5.758854     50.103519       0.000000   \n",
              "25%    3.459216e+09      -5.157051     50.153644     396.000000   \n",
              "50%    3.544858e+09      -5.073365     50.236397    1080.000000   \n",
              "75%    3.716220e+09      -4.795648     50.428098    2232.000000   \n",
              "max    4.149498e+09      -4.208614     50.882217  277092.000000   \n",
              "\n",
              "       height_above_ellipsoid  \n",
              "count            18215.000000  \n",
              "mean               103.648265  \n",
              "std                245.705665  \n",
              "min               -550.070000  \n",
              "25%                 48.870000  \n",
              "50%                 80.920000  \n",
              "75%                119.430000  \n",
              "max               8388.260000  "
            ],
            "text/html": [
              "\n",
              "  <div id=\"df-59074107-d94c-4512-a403-558c570ab19f\" class=\"colab-df-container\">\n",
              "    <div>\n",
              "<style scoped>\n",
              "    .dataframe tbody tr th:only-of-type {\n",
              "        vertical-align: middle;\n",
              "    }\n",
              "\n",
              "    .dataframe tbody tr th {\n",
              "        vertical-align: top;\n",
              "    }\n",
              "\n",
              "    .dataframe thead th {\n",
              "        text-align: right;\n",
              "    }\n",
              "</style>\n",
              "<table border=\"1\" class=\"dataframe\">\n",
              "  <thead>\n",
              "    <tr style=\"text-align: right;\">\n",
              "      <th></th>\n",
              "      <th>event_id</th>\n",
              "      <th>location_long</th>\n",
              "      <th>location_lat</th>\n",
              "      <th>ground_speed</th>\n",
              "      <th>height_above_ellipsoid</th>\n",
              "    </tr>\n",
              "  </thead>\n",
              "  <tbody>\n",
              "    <tr>\n",
              "      <th>count</th>\n",
              "      <td>1.821500e+04</td>\n",
              "      <td>18215.000000</td>\n",
              "      <td>18215.000000</td>\n",
              "      <td>18215.000000</td>\n",
              "      <td>18215.000000</td>\n",
              "    </tr>\n",
              "    <tr>\n",
              "      <th>mean</th>\n",
              "      <td>3.618912e+09</td>\n",
              "      <td>-4.988242</td>\n",
              "      <td>50.296238</td>\n",
              "      <td>1911.484381</td>\n",
              "      <td>103.648265</td>\n",
              "    </tr>\n",
              "    <tr>\n",
              "      <th>std</th>\n",
              "      <td>1.934048e+08</td>\n",
              "      <td>0.301499</td>\n",
              "      <td>0.158353</td>\n",
              "      <td>4592.574178</td>\n",
              "      <td>245.705665</td>\n",
              "    </tr>\n",
              "    <tr>\n",
              "      <th>min</th>\n",
              "      <td>3.395611e+09</td>\n",
              "      <td>-5.758854</td>\n",
              "      <td>50.103519</td>\n",
              "      <td>0.000000</td>\n",
              "      <td>-550.070000</td>\n",
              "    </tr>\n",
              "    <tr>\n",
              "      <th>25%</th>\n",
              "      <td>3.459216e+09</td>\n",
              "      <td>-5.157051</td>\n",
              "      <td>50.153644</td>\n",
              "      <td>396.000000</td>\n",
              "      <td>48.870000</td>\n",
              "    </tr>\n",
              "    <tr>\n",
              "      <th>50%</th>\n",
              "      <td>3.544858e+09</td>\n",
              "      <td>-5.073365</td>\n",
              "      <td>50.236397</td>\n",
              "      <td>1080.000000</td>\n",
              "      <td>80.920000</td>\n",
              "    </tr>\n",
              "    <tr>\n",
              "      <th>75%</th>\n",
              "      <td>3.716220e+09</td>\n",
              "      <td>-4.795648</td>\n",
              "      <td>50.428098</td>\n",
              "      <td>2232.000000</td>\n",
              "      <td>119.430000</td>\n",
              "    </tr>\n",
              "    <tr>\n",
              "      <th>max</th>\n",
              "      <td>4.149498e+09</td>\n",
              "      <td>-4.208614</td>\n",
              "      <td>50.882217</td>\n",
              "      <td>277092.000000</td>\n",
              "      <td>8388.260000</td>\n",
              "    </tr>\n",
              "  </tbody>\n",
              "</table>\n",
              "</div>\n",
              "    <div class=\"colab-df-buttons\">\n",
              "\n",
              "  <div class=\"colab-df-container\">\n",
              "    <button class=\"colab-df-convert\" onclick=\"convertToInteractive('df-59074107-d94c-4512-a403-558c570ab19f')\"\n",
              "            title=\"Convert this dataframe to an interactive table.\"\n",
              "            style=\"display:none;\">\n",
              "\n",
              "  <svg xmlns=\"http://www.w3.org/2000/svg\" height=\"24px\" viewBox=\"0 -960 960 960\">\n",
              "    <path d=\"M120-120v-720h720v720H120Zm60-500h600v-160H180v160Zm220 220h160v-160H400v160Zm0 220h160v-160H400v160ZM180-400h160v-160H180v160Zm440 0h160v-160H620v160ZM180-180h160v-160H180v160Zm440 0h160v-160H620v160Z\"/>\n",
              "  </svg>\n",
              "    </button>\n",
              "\n",
              "  <style>\n",
              "    .colab-df-container {\n",
              "      display:flex;\n",
              "      gap: 12px;\n",
              "    }\n",
              "\n",
              "    .colab-df-convert {\n",
              "      background-color: #E8F0FE;\n",
              "      border: none;\n",
              "      border-radius: 50%;\n",
              "      cursor: pointer;\n",
              "      display: none;\n",
              "      fill: #1967D2;\n",
              "      height: 32px;\n",
              "      padding: 0 0 0 0;\n",
              "      width: 32px;\n",
              "    }\n",
              "\n",
              "    .colab-df-convert:hover {\n",
              "      background-color: #E2EBFA;\n",
              "      box-shadow: 0px 1px 2px rgba(60, 64, 67, 0.3), 0px 1px 3px 1px rgba(60, 64, 67, 0.15);\n",
              "      fill: #174EA6;\n",
              "    }\n",
              "\n",
              "    .colab-df-buttons div {\n",
              "      margin-bottom: 4px;\n",
              "    }\n",
              "\n",
              "    [theme=dark] .colab-df-convert {\n",
              "      background-color: #3B4455;\n",
              "      fill: #D2E3FC;\n",
              "    }\n",
              "\n",
              "    [theme=dark] .colab-df-convert:hover {\n",
              "      background-color: #434B5C;\n",
              "      box-shadow: 0px 1px 3px 1px rgba(0, 0, 0, 0.15);\n",
              "      filter: drop-shadow(0px 1px 2px rgba(0, 0, 0, 0.3));\n",
              "      fill: #FFFFFF;\n",
              "    }\n",
              "  </style>\n",
              "\n",
              "    <script>\n",
              "      const buttonEl =\n",
              "        document.querySelector('#df-59074107-d94c-4512-a403-558c570ab19f button.colab-df-convert');\n",
              "      buttonEl.style.display =\n",
              "        google.colab.kernel.accessAllowed ? 'block' : 'none';\n",
              "\n",
              "      async function convertToInteractive(key) {\n",
              "        const element = document.querySelector('#df-59074107-d94c-4512-a403-558c570ab19f');\n",
              "        const dataTable =\n",
              "          await google.colab.kernel.invokeFunction('convertToInteractive',\n",
              "                                                    [key], {});\n",
              "        if (!dataTable) return;\n",
              "\n",
              "        const docLinkHtml = 'Like what you see? Visit the ' +\n",
              "          '<a target=\"_blank\" href=https://colab.research.google.com/notebooks/data_table.ipynb>data table notebook</a>'\n",
              "          + ' to learn more about interactive tables.';\n",
              "        element.innerHTML = '';\n",
              "        dataTable['output_type'] = 'display_data';\n",
              "        await google.colab.output.renderOutput(dataTable, element);\n",
              "        const docLink = document.createElement('div');\n",
              "        docLink.innerHTML = docLinkHtml;\n",
              "        element.appendChild(docLink);\n",
              "      }\n",
              "    </script>\n",
              "  </div>\n",
              "\n",
              "\n",
              "<div id=\"df-c70eefa5-d904-4516-8678-6a4ee7909b29\">\n",
              "  <button class=\"colab-df-quickchart\" onclick=\"quickchart('df-c70eefa5-d904-4516-8678-6a4ee7909b29')\"\n",
              "            title=\"Suggest charts\"\n",
              "            style=\"display:none;\">\n",
              "\n",
              "<svg xmlns=\"http://www.w3.org/2000/svg\" height=\"24px\"viewBox=\"0 0 24 24\"\n",
              "     width=\"24px\">\n",
              "    <g>\n",
              "        <path d=\"M19 3H5c-1.1 0-2 .9-2 2v14c0 1.1.9 2 2 2h14c1.1 0 2-.9 2-2V5c0-1.1-.9-2-2-2zM9 17H7v-7h2v7zm4 0h-2V7h2v10zm4 0h-2v-4h2v4z\"/>\n",
              "    </g>\n",
              "</svg>\n",
              "  </button>\n",
              "\n",
              "<style>\n",
              "  .colab-df-quickchart {\n",
              "      --bg-color: #E8F0FE;\n",
              "      --fill-color: #1967D2;\n",
              "      --hover-bg-color: #E2EBFA;\n",
              "      --hover-fill-color: #174EA6;\n",
              "      --disabled-fill-color: #AAA;\n",
              "      --disabled-bg-color: #DDD;\n",
              "  }\n",
              "\n",
              "  [theme=dark] .colab-df-quickchart {\n",
              "      --bg-color: #3B4455;\n",
              "      --fill-color: #D2E3FC;\n",
              "      --hover-bg-color: #434B5C;\n",
              "      --hover-fill-color: #FFFFFF;\n",
              "      --disabled-bg-color: #3B4455;\n",
              "      --disabled-fill-color: #666;\n",
              "  }\n",
              "\n",
              "  .colab-df-quickchart {\n",
              "    background-color: var(--bg-color);\n",
              "    border: none;\n",
              "    border-radius: 50%;\n",
              "    cursor: pointer;\n",
              "    display: none;\n",
              "    fill: var(--fill-color);\n",
              "    height: 32px;\n",
              "    padding: 0;\n",
              "    width: 32px;\n",
              "  }\n",
              "\n",
              "  .colab-df-quickchart:hover {\n",
              "    background-color: var(--hover-bg-color);\n",
              "    box-shadow: 0 1px 2px rgba(60, 64, 67, 0.3), 0 1px 3px 1px rgba(60, 64, 67, 0.15);\n",
              "    fill: var(--button-hover-fill-color);\n",
              "  }\n",
              "\n",
              "  .colab-df-quickchart-complete:disabled,\n",
              "  .colab-df-quickchart-complete:disabled:hover {\n",
              "    background-color: var(--disabled-bg-color);\n",
              "    fill: var(--disabled-fill-color);\n",
              "    box-shadow: none;\n",
              "  }\n",
              "\n",
              "  .colab-df-spinner {\n",
              "    border: 2px solid var(--fill-color);\n",
              "    border-color: transparent;\n",
              "    border-bottom-color: var(--fill-color);\n",
              "    animation:\n",
              "      spin 1s steps(1) infinite;\n",
              "  }\n",
              "\n",
              "  @keyframes spin {\n",
              "    0% {\n",
              "      border-color: transparent;\n",
              "      border-bottom-color: var(--fill-color);\n",
              "      border-left-color: var(--fill-color);\n",
              "    }\n",
              "    20% {\n",
              "      border-color: transparent;\n",
              "      border-left-color: var(--fill-color);\n",
              "      border-top-color: var(--fill-color);\n",
              "    }\n",
              "    30% {\n",
              "      border-color: transparent;\n",
              "      border-left-color: var(--fill-color);\n",
              "      border-top-color: var(--fill-color);\n",
              "      border-right-color: var(--fill-color);\n",
              "    }\n",
              "    40% {\n",
              "      border-color: transparent;\n",
              "      border-right-color: var(--fill-color);\n",
              "      border-top-color: var(--fill-color);\n",
              "    }\n",
              "    60% {\n",
              "      border-color: transparent;\n",
              "      border-right-color: var(--fill-color);\n",
              "    }\n",
              "    80% {\n",
              "      border-color: transparent;\n",
              "      border-right-color: var(--fill-color);\n",
              "      border-bottom-color: var(--fill-color);\n",
              "    }\n",
              "    90% {\n",
              "      border-color: transparent;\n",
              "      border-bottom-color: var(--fill-color);\n",
              "    }\n",
              "  }\n",
              "</style>\n",
              "\n",
              "  <script>\n",
              "    async function quickchart(key) {\n",
              "      const quickchartButtonEl =\n",
              "        document.querySelector('#' + key + ' button');\n",
              "      quickchartButtonEl.disabled = true;  // To prevent multiple clicks.\n",
              "      quickchartButtonEl.classList.add('colab-df-spinner');\n",
              "      try {\n",
              "        const charts = await google.colab.kernel.invokeFunction(\n",
              "            'suggestCharts', [key], {});\n",
              "      } catch (error) {\n",
              "        console.error('Error during call to suggestCharts:', error);\n",
              "      }\n",
              "      quickchartButtonEl.classList.remove('colab-df-spinner');\n",
              "      quickchartButtonEl.classList.add('colab-df-quickchart-complete');\n",
              "    }\n",
              "    (() => {\n",
              "      let quickchartButtonEl =\n",
              "        document.querySelector('#df-c70eefa5-d904-4516-8678-6a4ee7909b29 button');\n",
              "      quickchartButtonEl.style.display =\n",
              "        google.colab.kernel.accessAllowed ? 'block' : 'none';\n",
              "    })();\n",
              "  </script>\n",
              "</div>\n",
              "    </div>\n",
              "  </div>\n"
            ],
            "application/vnd.google.colaboratory.intrinsic+json": {
              "type": "dataframe",
              "summary": "{\n  \"name\": \"df1\",\n  \"rows\": 8,\n  \"fields\": [\n    {\n      \"column\": \"event_id\",\n      \"properties\": {\n        \"dtype\": \"number\",\n        \"std\": 1660318671.5137038,\n        \"min\": 18215.0,\n        \"max\": 4149497980.0,\n        \"num_unique_values\": 8,\n        \"samples\": [\n          3618911564.0533075,\n          3544857822.0,\n          18215.0\n        ],\n        \"semantic_type\": \"\",\n        \"description\": \"\"\n      }\n    },\n    {\n      \"column\": \"location_long\",\n      \"properties\": {\n        \"dtype\": \"number\",\n        \"std\": 6441.4743708930955,\n        \"min\": -5.758854,\n        \"max\": 18215.0,\n        \"num_unique_values\": 8,\n        \"samples\": [\n          -4.988241542739501,\n          -5.073365,\n          18215.0\n        ],\n        \"semantic_type\": \"\",\n        \"description\": \"\"\n      }\n    },\n    {\n      \"column\": \"location_lat\",\n      \"properties\": {\n        \"dtype\": \"number\",\n        \"std\": 6424.732662943171,\n        \"min\": 0.15835336322804647,\n        \"max\": 18215.0,\n        \"num_unique_values\": 8,\n        \"samples\": [\n          50.296238132583035,\n          50.236397,\n          18215.0\n        ],\n        \"semantic_type\": \"\",\n        \"description\": \"\"\n      }\n    },\n    {\n      \"column\": \"ground_speed\",\n      \"properties\": {\n        \"dtype\": \"number\",\n        \"std\": 96713.9200693497,\n        \"min\": 0.0,\n        \"max\": 277092.0,\n        \"num_unique_values\": 8,\n        \"samples\": [\n          1911.4843810046664,\n          1080.0,\n          18215.0\n        ],\n        \"semantic_type\": \"\",\n        \"description\": \"\"\n      }\n    },\n    {\n      \"column\": \"height_above_ellipsoid\",\n      \"properties\": {\n        \"dtype\": \"number\",\n        \"std\": 6694.949662066695,\n        \"min\": -550.07,\n        \"max\": 18215.0,\n        \"num_unique_values\": 8,\n        \"samples\": [\n          103.64826516607192,\n          80.92,\n          18215.0\n        ],\n        \"semantic_type\": \"\",\n        \"description\": \"\"\n      }\n    }\n  ]\n}"
            }
          },
          "metadata": {},
          "execution_count": 5
        }
      ]
    },
    {
      "cell_type": "code",
      "source": [
        "df1.info()"
      ],
      "metadata": {
        "id": "Sh30mqaYTC7m",
        "outputId": "f2b1412c-70b5-45c4-9392-168c95060788",
        "colab": {
          "base_uri": "https://localhost:8080/"
        }
      },
      "execution_count": null,
      "outputs": [
        {
          "output_type": "stream",
          "name": "stdout",
          "text": [
            "<class 'pandas.core.frame.DataFrame'>\n",
            "RangeIndex: 18215 entries, 0 to 18214\n",
            "Data columns (total 11 columns):\n",
            " #   Column                    Non-Null Count  Dtype  \n",
            "---  ------                    --------------  -----  \n",
            " 0   tag_id                    18215 non-null  object \n",
            " 1   event_id                  18215 non-null  int64  \n",
            " 2   visible                   18215 non-null  bool   \n",
            " 3   timestamp                 18215 non-null  object \n",
            " 4   location_long             18215 non-null  float64\n",
            " 5   location_lat              18215 non-null  float64\n",
            " 6   ground_speed              18215 non-null  int64  \n",
            " 7   height_above_ellipsoid    18215 non-null  float64\n",
            " 8   algorithm_marked_outlier  18215 non-null  bool   \n",
            " 9   manually_marked_outlier   18215 non-null  bool   \n",
            " 10  study_name                18215 non-null  object \n",
            "dtypes: bool(3), float64(3), int64(2), object(3)\n",
            "memory usage: 1.2+ MB\n"
          ]
        }
      ]
    },
    {
      "cell_type": "code",
      "source": [
        "df1.isna().all()"
      ],
      "metadata": {
        "id": "kG2Ka4RBSnVK",
        "colab": {
          "base_uri": "https://localhost:8080/"
        },
        "outputId": "d876a988-fca9-4197-cfdf-200714f21571"
      },
      "execution_count": null,
      "outputs": [
        {
          "output_type": "execute_result",
          "data": {
            "text/plain": [
              "tag_id                      False\n",
              "event_id                    False\n",
              "visible                     False\n",
              "timestamp                   False\n",
              "location_long               False\n",
              "location_lat                False\n",
              "ground_speed                False\n",
              "height_above_ellipsoid      False\n",
              "algorithm_marked_outlier    False\n",
              "manually_marked_outlier     False\n",
              "study_name                  False\n",
              "dtype: bool"
            ]
          },
          "metadata": {},
          "execution_count": 7
        }
      ]
    },
    {
      "cell_type": "code",
      "source": [
        "print(type(df1['tag_id']))\n",
        "\n",
        "df1['tag_id'].value_counts()"
      ],
      "metadata": {
        "colab": {
          "base_uri": "https://localhost:8080/"
        },
        "id": "y4wC7UxoUMso",
        "outputId": "a7079d4f-03ce-4050-ce56-e2eb07b41923"
      },
      "execution_count": null,
      "outputs": [
        {
          "output_type": "stream",
          "name": "stdout",
          "text": [
            "<class 'pandas.core.series.Series'>\n"
          ]
        },
        {
          "output_type": "execute_result",
          "data": {
            "text/plain": [
              "tag_id\n",
              "Gracie_2-Tag    963\n",
              "Bits-Tag        867\n",
              "Teddy-Tag       791\n",
              "Ginge-Tag       445\n",
              "Maxwell-Tag     404\n",
              "               ... \n",
              "Felix-Tag        51\n",
              "Tigger-Tag       51\n",
              "Lily-Tag         46\n",
              "Ebby-Tag         41\n",
              "Magic-Tag        12\n",
              "Name: count, Length: 101, dtype: int64"
            ]
          },
          "metadata": {},
          "execution_count": 8
        }
      ]
    },
    {
      "cell_type": "code",
      "source": [
        "df2 = pd.read_csv(cats_uk_reference_path)\n",
        "df2.head()"
      ],
      "metadata": {
        "colab": {
          "base_uri": "https://localhost:8080/",
          "height": 313
        },
        "id": "XZKW0pE-VQDg",
        "outputId": "c18fdf90-883f-4f13-b7fc-2903648ca035"
      },
      "execution_count": null,
      "outputs": [
        {
          "output_type": "execute_result",
          "data": {
            "text/plain": [
              "      tag_id animal_id animal_taxon        deploy_on_date  \\\n",
              "0  Tommy-Tag     Tommy  Felis catus  2017-06-03T01:02:09Z   \n",
              "1     Athena    Athena  Felis catus  2017-06-24T01:02:13Z   \n",
              "2       Ares      Ares  Felis catus  2017-06-24T01:03:57Z   \n",
              "3       Lola      Lola  Felis catus  2017-06-24T01:18:49Z   \n",
              "4   Maverick  Maverick  Felis catus  2017-06-25T01:04:35Z   \n",
              "\n",
              "        deploy_off_date  hunt  prey_p_month animal_reproductive_condition  \\\n",
              "0  2017-06-10T02:10:52Z  True          12.5                      Neutered   \n",
              "1  2017-06-30T23:59:32Z  True           3.0                        Spayed   \n",
              "2  2017-06-30T23:58:01Z   NaN           0.0                      Neutered   \n",
              "3  2017-06-30T09:04:40Z  True           3.0                        Spayed   \n",
              "4  2017-07-03T09:10:07Z  True           3.0                      Neutered   \n",
              "\n",
              "  animal_sex  hrs_indoors  n_cats  food_dry  food_wet food_other study_site  \\\n",
              "0          m         12.5       2      True      True      False         UK   \n",
              "1          f          7.5       2      True      True      False         UK   \n",
              "2          m          7.5       2      True      True      False         UK   \n",
              "3          f         17.5       1      True      True      False         UK   \n",
              "4          m         12.5       1      True      True       True         UK   \n",
              "\n",
              "   age_years  \n",
              "0       11.0  \n",
              "1        3.0  \n",
              "2        3.0  \n",
              "3       10.0  \n",
              "4        7.0  "
            ],
            "text/html": [
              "\n",
              "  <div id=\"df-9c8851ce-4844-4b7a-a2e7-935dce620848\" class=\"colab-df-container\">\n",
              "    <div>\n",
              "<style scoped>\n",
              "    .dataframe tbody tr th:only-of-type {\n",
              "        vertical-align: middle;\n",
              "    }\n",
              "\n",
              "    .dataframe tbody tr th {\n",
              "        vertical-align: top;\n",
              "    }\n",
              "\n",
              "    .dataframe thead th {\n",
              "        text-align: right;\n",
              "    }\n",
              "</style>\n",
              "<table border=\"1\" class=\"dataframe\">\n",
              "  <thead>\n",
              "    <tr style=\"text-align: right;\">\n",
              "      <th></th>\n",
              "      <th>tag_id</th>\n",
              "      <th>animal_id</th>\n",
              "      <th>animal_taxon</th>\n",
              "      <th>deploy_on_date</th>\n",
              "      <th>deploy_off_date</th>\n",
              "      <th>hunt</th>\n",
              "      <th>prey_p_month</th>\n",
              "      <th>animal_reproductive_condition</th>\n",
              "      <th>animal_sex</th>\n",
              "      <th>hrs_indoors</th>\n",
              "      <th>n_cats</th>\n",
              "      <th>food_dry</th>\n",
              "      <th>food_wet</th>\n",
              "      <th>food_other</th>\n",
              "      <th>study_site</th>\n",
              "      <th>age_years</th>\n",
              "    </tr>\n",
              "  </thead>\n",
              "  <tbody>\n",
              "    <tr>\n",
              "      <th>0</th>\n",
              "      <td>Tommy-Tag</td>\n",
              "      <td>Tommy</td>\n",
              "      <td>Felis catus</td>\n",
              "      <td>2017-06-03T01:02:09Z</td>\n",
              "      <td>2017-06-10T02:10:52Z</td>\n",
              "      <td>True</td>\n",
              "      <td>12.5</td>\n",
              "      <td>Neutered</td>\n",
              "      <td>m</td>\n",
              "      <td>12.5</td>\n",
              "      <td>2</td>\n",
              "      <td>True</td>\n",
              "      <td>True</td>\n",
              "      <td>False</td>\n",
              "      <td>UK</td>\n",
              "      <td>11.0</td>\n",
              "    </tr>\n",
              "    <tr>\n",
              "      <th>1</th>\n",
              "      <td>Athena</td>\n",
              "      <td>Athena</td>\n",
              "      <td>Felis catus</td>\n",
              "      <td>2017-06-24T01:02:13Z</td>\n",
              "      <td>2017-06-30T23:59:32Z</td>\n",
              "      <td>True</td>\n",
              "      <td>3.0</td>\n",
              "      <td>Spayed</td>\n",
              "      <td>f</td>\n",
              "      <td>7.5</td>\n",
              "      <td>2</td>\n",
              "      <td>True</td>\n",
              "      <td>True</td>\n",
              "      <td>False</td>\n",
              "      <td>UK</td>\n",
              "      <td>3.0</td>\n",
              "    </tr>\n",
              "    <tr>\n",
              "      <th>2</th>\n",
              "      <td>Ares</td>\n",
              "      <td>Ares</td>\n",
              "      <td>Felis catus</td>\n",
              "      <td>2017-06-24T01:03:57Z</td>\n",
              "      <td>2017-06-30T23:58:01Z</td>\n",
              "      <td>NaN</td>\n",
              "      <td>0.0</td>\n",
              "      <td>Neutered</td>\n",
              "      <td>m</td>\n",
              "      <td>7.5</td>\n",
              "      <td>2</td>\n",
              "      <td>True</td>\n",
              "      <td>True</td>\n",
              "      <td>False</td>\n",
              "      <td>UK</td>\n",
              "      <td>3.0</td>\n",
              "    </tr>\n",
              "    <tr>\n",
              "      <th>3</th>\n",
              "      <td>Lola</td>\n",
              "      <td>Lola</td>\n",
              "      <td>Felis catus</td>\n",
              "      <td>2017-06-24T01:18:49Z</td>\n",
              "      <td>2017-06-30T09:04:40Z</td>\n",
              "      <td>True</td>\n",
              "      <td>3.0</td>\n",
              "      <td>Spayed</td>\n",
              "      <td>f</td>\n",
              "      <td>17.5</td>\n",
              "      <td>1</td>\n",
              "      <td>True</td>\n",
              "      <td>True</td>\n",
              "      <td>False</td>\n",
              "      <td>UK</td>\n",
              "      <td>10.0</td>\n",
              "    </tr>\n",
              "    <tr>\n",
              "      <th>4</th>\n",
              "      <td>Maverick</td>\n",
              "      <td>Maverick</td>\n",
              "      <td>Felis catus</td>\n",
              "      <td>2017-06-25T01:04:35Z</td>\n",
              "      <td>2017-07-03T09:10:07Z</td>\n",
              "      <td>True</td>\n",
              "      <td>3.0</td>\n",
              "      <td>Neutered</td>\n",
              "      <td>m</td>\n",
              "      <td>12.5</td>\n",
              "      <td>1</td>\n",
              "      <td>True</td>\n",
              "      <td>True</td>\n",
              "      <td>True</td>\n",
              "      <td>UK</td>\n",
              "      <td>7.0</td>\n",
              "    </tr>\n",
              "  </tbody>\n",
              "</table>\n",
              "</div>\n",
              "    <div class=\"colab-df-buttons\">\n",
              "\n",
              "  <div class=\"colab-df-container\">\n",
              "    <button class=\"colab-df-convert\" onclick=\"convertToInteractive('df-9c8851ce-4844-4b7a-a2e7-935dce620848')\"\n",
              "            title=\"Convert this dataframe to an interactive table.\"\n",
              "            style=\"display:none;\">\n",
              "\n",
              "  <svg xmlns=\"http://www.w3.org/2000/svg\" height=\"24px\" viewBox=\"0 -960 960 960\">\n",
              "    <path d=\"M120-120v-720h720v720H120Zm60-500h600v-160H180v160Zm220 220h160v-160H400v160Zm0 220h160v-160H400v160ZM180-400h160v-160H180v160Zm440 0h160v-160H620v160ZM180-180h160v-160H180v160Zm440 0h160v-160H620v160Z\"/>\n",
              "  </svg>\n",
              "    </button>\n",
              "\n",
              "  <style>\n",
              "    .colab-df-container {\n",
              "      display:flex;\n",
              "      gap: 12px;\n",
              "    }\n",
              "\n",
              "    .colab-df-convert {\n",
              "      background-color: #E8F0FE;\n",
              "      border: none;\n",
              "      border-radius: 50%;\n",
              "      cursor: pointer;\n",
              "      display: none;\n",
              "      fill: #1967D2;\n",
              "      height: 32px;\n",
              "      padding: 0 0 0 0;\n",
              "      width: 32px;\n",
              "    }\n",
              "\n",
              "    .colab-df-convert:hover {\n",
              "      background-color: #E2EBFA;\n",
              "      box-shadow: 0px 1px 2px rgba(60, 64, 67, 0.3), 0px 1px 3px 1px rgba(60, 64, 67, 0.15);\n",
              "      fill: #174EA6;\n",
              "    }\n",
              "\n",
              "    .colab-df-buttons div {\n",
              "      margin-bottom: 4px;\n",
              "    }\n",
              "\n",
              "    [theme=dark] .colab-df-convert {\n",
              "      background-color: #3B4455;\n",
              "      fill: #D2E3FC;\n",
              "    }\n",
              "\n",
              "    [theme=dark] .colab-df-convert:hover {\n",
              "      background-color: #434B5C;\n",
              "      box-shadow: 0px 1px 3px 1px rgba(0, 0, 0, 0.15);\n",
              "      filter: drop-shadow(0px 1px 2px rgba(0, 0, 0, 0.3));\n",
              "      fill: #FFFFFF;\n",
              "    }\n",
              "  </style>\n",
              "\n",
              "    <script>\n",
              "      const buttonEl =\n",
              "        document.querySelector('#df-9c8851ce-4844-4b7a-a2e7-935dce620848 button.colab-df-convert');\n",
              "      buttonEl.style.display =\n",
              "        google.colab.kernel.accessAllowed ? 'block' : 'none';\n",
              "\n",
              "      async function convertToInteractive(key) {\n",
              "        const element = document.querySelector('#df-9c8851ce-4844-4b7a-a2e7-935dce620848');\n",
              "        const dataTable =\n",
              "          await google.colab.kernel.invokeFunction('convertToInteractive',\n",
              "                                                    [key], {});\n",
              "        if (!dataTable) return;\n",
              "\n",
              "        const docLinkHtml = 'Like what you see? Visit the ' +\n",
              "          '<a target=\"_blank\" href=https://colab.research.google.com/notebooks/data_table.ipynb>data table notebook</a>'\n",
              "          + ' to learn more about interactive tables.';\n",
              "        element.innerHTML = '';\n",
              "        dataTable['output_type'] = 'display_data';\n",
              "        await google.colab.output.renderOutput(dataTable, element);\n",
              "        const docLink = document.createElement('div');\n",
              "        docLink.innerHTML = docLinkHtml;\n",
              "        element.appendChild(docLink);\n",
              "      }\n",
              "    </script>\n",
              "  </div>\n",
              "\n",
              "\n",
              "<div id=\"df-7c85d7d8-cff3-468a-a9e1-8bb351a6bb6d\">\n",
              "  <button class=\"colab-df-quickchart\" onclick=\"quickchart('df-7c85d7d8-cff3-468a-a9e1-8bb351a6bb6d')\"\n",
              "            title=\"Suggest charts\"\n",
              "            style=\"display:none;\">\n",
              "\n",
              "<svg xmlns=\"http://www.w3.org/2000/svg\" height=\"24px\"viewBox=\"0 0 24 24\"\n",
              "     width=\"24px\">\n",
              "    <g>\n",
              "        <path d=\"M19 3H5c-1.1 0-2 .9-2 2v14c0 1.1.9 2 2 2h14c1.1 0 2-.9 2-2V5c0-1.1-.9-2-2-2zM9 17H7v-7h2v7zm4 0h-2V7h2v10zm4 0h-2v-4h2v4z\"/>\n",
              "    </g>\n",
              "</svg>\n",
              "  </button>\n",
              "\n",
              "<style>\n",
              "  .colab-df-quickchart {\n",
              "      --bg-color: #E8F0FE;\n",
              "      --fill-color: #1967D2;\n",
              "      --hover-bg-color: #E2EBFA;\n",
              "      --hover-fill-color: #174EA6;\n",
              "      --disabled-fill-color: #AAA;\n",
              "      --disabled-bg-color: #DDD;\n",
              "  }\n",
              "\n",
              "  [theme=dark] .colab-df-quickchart {\n",
              "      --bg-color: #3B4455;\n",
              "      --fill-color: #D2E3FC;\n",
              "      --hover-bg-color: #434B5C;\n",
              "      --hover-fill-color: #FFFFFF;\n",
              "      --disabled-bg-color: #3B4455;\n",
              "      --disabled-fill-color: #666;\n",
              "  }\n",
              "\n",
              "  .colab-df-quickchart {\n",
              "    background-color: var(--bg-color);\n",
              "    border: none;\n",
              "    border-radius: 50%;\n",
              "    cursor: pointer;\n",
              "    display: none;\n",
              "    fill: var(--fill-color);\n",
              "    height: 32px;\n",
              "    padding: 0;\n",
              "    width: 32px;\n",
              "  }\n",
              "\n",
              "  .colab-df-quickchart:hover {\n",
              "    background-color: var(--hover-bg-color);\n",
              "    box-shadow: 0 1px 2px rgba(60, 64, 67, 0.3), 0 1px 3px 1px rgba(60, 64, 67, 0.15);\n",
              "    fill: var(--button-hover-fill-color);\n",
              "  }\n",
              "\n",
              "  .colab-df-quickchart-complete:disabled,\n",
              "  .colab-df-quickchart-complete:disabled:hover {\n",
              "    background-color: var(--disabled-bg-color);\n",
              "    fill: var(--disabled-fill-color);\n",
              "    box-shadow: none;\n",
              "  }\n",
              "\n",
              "  .colab-df-spinner {\n",
              "    border: 2px solid var(--fill-color);\n",
              "    border-color: transparent;\n",
              "    border-bottom-color: var(--fill-color);\n",
              "    animation:\n",
              "      spin 1s steps(1) infinite;\n",
              "  }\n",
              "\n",
              "  @keyframes spin {\n",
              "    0% {\n",
              "      border-color: transparent;\n",
              "      border-bottom-color: var(--fill-color);\n",
              "      border-left-color: var(--fill-color);\n",
              "    }\n",
              "    20% {\n",
              "      border-color: transparent;\n",
              "      border-left-color: var(--fill-color);\n",
              "      border-top-color: var(--fill-color);\n",
              "    }\n",
              "    30% {\n",
              "      border-color: transparent;\n",
              "      border-left-color: var(--fill-color);\n",
              "      border-top-color: var(--fill-color);\n",
              "      border-right-color: var(--fill-color);\n",
              "    }\n",
              "    40% {\n",
              "      border-color: transparent;\n",
              "      border-right-color: var(--fill-color);\n",
              "      border-top-color: var(--fill-color);\n",
              "    }\n",
              "    60% {\n",
              "      border-color: transparent;\n",
              "      border-right-color: var(--fill-color);\n",
              "    }\n",
              "    80% {\n",
              "      border-color: transparent;\n",
              "      border-right-color: var(--fill-color);\n",
              "      border-bottom-color: var(--fill-color);\n",
              "    }\n",
              "    90% {\n",
              "      border-color: transparent;\n",
              "      border-bottom-color: var(--fill-color);\n",
              "    }\n",
              "  }\n",
              "</style>\n",
              "\n",
              "  <script>\n",
              "    async function quickchart(key) {\n",
              "      const quickchartButtonEl =\n",
              "        document.querySelector('#' + key + ' button');\n",
              "      quickchartButtonEl.disabled = true;  // To prevent multiple clicks.\n",
              "      quickchartButtonEl.classList.add('colab-df-spinner');\n",
              "      try {\n",
              "        const charts = await google.colab.kernel.invokeFunction(\n",
              "            'suggestCharts', [key], {});\n",
              "      } catch (error) {\n",
              "        console.error('Error during call to suggestCharts:', error);\n",
              "      }\n",
              "      quickchartButtonEl.classList.remove('colab-df-spinner');\n",
              "      quickchartButtonEl.classList.add('colab-df-quickchart-complete');\n",
              "    }\n",
              "    (() => {\n",
              "      let quickchartButtonEl =\n",
              "        document.querySelector('#df-7c85d7d8-cff3-468a-a9e1-8bb351a6bb6d button');\n",
              "      quickchartButtonEl.style.display =\n",
              "        google.colab.kernel.accessAllowed ? 'block' : 'none';\n",
              "    })();\n",
              "  </script>\n",
              "</div>\n",
              "    </div>\n",
              "  </div>\n"
            ],
            "application/vnd.google.colaboratory.intrinsic+json": {
              "type": "dataframe",
              "variable_name": "df2",
              "summary": "{\n  \"name\": \"df2\",\n  \"rows\": 101,\n  \"fields\": [\n    {\n      \"column\": \"tag_id\",\n      \"properties\": {\n        \"dtype\": \"string\",\n        \"num_unique_values\": 101,\n        \"samples\": [\n          \"Pants-Tag\",\n          \"Frank-Tag\",\n          \"Teddy-Tag\"\n        ],\n        \"semantic_type\": \"\",\n        \"description\": \"\"\n      }\n    },\n    {\n      \"column\": \"animal_id\",\n      \"properties\": {\n        \"dtype\": \"string\",\n        \"num_unique_values\": 101,\n        \"samples\": [\n          \"Pants\",\n          \"Frank\",\n          \"Teddy\"\n        ],\n        \"semantic_type\": \"\",\n        \"description\": \"\"\n      }\n    },\n    {\n      \"column\": \"animal_taxon\",\n      \"properties\": {\n        \"dtype\": \"category\",\n        \"num_unique_values\": 1,\n        \"samples\": [\n          \"Felis catus\"\n        ],\n        \"semantic_type\": \"\",\n        \"description\": \"\"\n      }\n    },\n    {\n      \"column\": \"deploy_on_date\",\n      \"properties\": {\n        \"dtype\": \"object\",\n        \"num_unique_values\": 100,\n        \"samples\": [\n          \"2017-09-25T01:20:25Z\"\n        ],\n        \"semantic_type\": \"\",\n        \"description\": \"\"\n      }\n    },\n    {\n      \"column\": \"deploy_off_date\",\n      \"properties\": {\n        \"dtype\": \"object\",\n        \"num_unique_values\": 101,\n        \"samples\": [\n          \"2017-10-03T10:45:33Z\"\n        ],\n        \"semantic_type\": \"\",\n        \"description\": \"\"\n      }\n    },\n    {\n      \"column\": \"hunt\",\n      \"properties\": {\n        \"dtype\": \"category\",\n        \"num_unique_values\": 2,\n        \"samples\": [\n          false\n        ],\n        \"semantic_type\": \"\",\n        \"description\": \"\"\n      }\n    },\n    {\n      \"column\": \"prey_p_month\",\n      \"properties\": {\n        \"dtype\": \"number\",\n        \"std\": 4.831466579303917,\n        \"min\": 0.0,\n        \"max\": 17.5,\n        \"num_unique_values\": 6,\n        \"samples\": [\n          12.5\n        ],\n        \"semantic_type\": \"\",\n        \"description\": \"\"\n      }\n    },\n    {\n      \"column\": \"animal_reproductive_condition\",\n      \"properties\": {\n        \"dtype\": \"category\",\n        \"num_unique_values\": 3,\n        \"samples\": [\n          \"Neutered\"\n        ],\n        \"semantic_type\": \"\",\n        \"description\": \"\"\n      }\n    },\n    {\n      \"column\": \"animal_sex\",\n      \"properties\": {\n        \"dtype\": \"category\",\n        \"num_unique_values\": 2,\n        \"samples\": [\n          \"f\"\n        ],\n        \"semantic_type\": \"\",\n        \"description\": \"\"\n      }\n    },\n    {\n      \"column\": \"hrs_indoors\",\n      \"properties\": {\n        \"dtype\": \"number\",\n        \"std\": 5.227971228719305,\n        \"min\": 2.5,\n        \"max\": 22.5,\n        \"num_unique_values\": 5,\n        \"samples\": [\n          7.5\n        ],\n        \"semantic_type\": \"\",\n        \"description\": \"\"\n      }\n    },\n    {\n      \"column\": \"n_cats\",\n      \"properties\": {\n        \"dtype\": \"number\",\n        \"std\": 0,\n        \"min\": 1,\n        \"max\": 4,\n        \"num_unique_values\": 4,\n        \"samples\": [\n          1\n        ],\n        \"semantic_type\": \"\",\n        \"description\": \"\"\n      }\n    },\n    {\n      \"column\": \"food_dry\",\n      \"properties\": {\n        \"dtype\": \"boolean\",\n        \"num_unique_values\": 2,\n        \"samples\": [\n          false\n        ],\n        \"semantic_type\": \"\",\n        \"description\": \"\"\n      }\n    },\n    {\n      \"column\": \"food_wet\",\n      \"properties\": {\n        \"dtype\": \"boolean\",\n        \"num_unique_values\": 2,\n        \"samples\": [\n          false\n        ],\n        \"semantic_type\": \"\",\n        \"description\": \"\"\n      }\n    },\n    {\n      \"column\": \"food_other\",\n      \"properties\": {\n        \"dtype\": \"category\",\n        \"num_unique_values\": 2,\n        \"samples\": [\n          true\n        ],\n        \"semantic_type\": \"\",\n        \"description\": \"\"\n      }\n    },\n    {\n      \"column\": \"study_site\",\n      \"properties\": {\n        \"dtype\": \"category\",\n        \"num_unique_values\": 1,\n        \"samples\": [\n          \"UK\"\n        ],\n        \"semantic_type\": \"\",\n        \"description\": \"\"\n      }\n    },\n    {\n      \"column\": \"age_years\",\n      \"properties\": {\n        \"dtype\": \"number\",\n        \"std\": 3.384993621586578,\n        \"min\": 0.0,\n        \"max\": 16.0,\n        \"num_unique_values\": 16,\n        \"samples\": [\n          11.0\n        ],\n        \"semantic_type\": \"\",\n        \"description\": \"\"\n      }\n    }\n  ]\n}"
            }
          },
          "metadata": {},
          "execution_count": 9
        }
      ]
    },
    {
      "cell_type": "code",
      "source": [
        "df2.shape"
      ],
      "metadata": {
        "colab": {
          "base_uri": "https://localhost:8080/"
        },
        "id": "ceWVLcAYVyE1",
        "outputId": "099025d4-b3f7-4cb2-92f1-975a310fd203"
      },
      "execution_count": null,
      "outputs": [
        {
          "output_type": "execute_result",
          "data": {
            "text/plain": [
              "(101, 16)"
            ]
          },
          "metadata": {},
          "execution_count": 10
        }
      ]
    },
    {
      "cell_type": "markdown",
      "source": [
        "Main description of the numerical columns of df2"
      ],
      "metadata": {
        "id": "kb50KGRiQo58"
      }
    },
    {
      "cell_type": "code",
      "source": [
        "df2.describe()"
      ],
      "metadata": {
        "colab": {
          "base_uri": "https://localhost:8080/",
          "height": 300
        },
        "id": "17RjzevDQvRt",
        "outputId": "359d4b58-728d-482c-cdb8-e0b63b9b63e1"
      },
      "execution_count": null,
      "outputs": [
        {
          "output_type": "execute_result",
          "data": {
            "text/plain": [
              "       prey_p_month  hrs_indoors      n_cats   age_years\n",
              "count    101.000000   101.000000  101.000000  100.000000\n",
              "mean       3.742574    11.856436    2.079208    5.420000\n",
              "std        4.831467     5.227971    0.996827    3.384994\n",
              "min        0.000000     2.500000    1.000000    0.000000\n",
              "25%        0.500000     7.500000    1.000000    3.000000\n",
              "50%        3.000000    12.500000    2.000000    5.000000\n",
              "75%        3.000000    17.500000    3.000000    8.000000\n",
              "max       17.500000    22.500000    4.000000   16.000000"
            ],
            "text/html": [
              "\n",
              "  <div id=\"df-0368dc7d-f775-4133-9ea6-c8348c86614c\" class=\"colab-df-container\">\n",
              "    <div>\n",
              "<style scoped>\n",
              "    .dataframe tbody tr th:only-of-type {\n",
              "        vertical-align: middle;\n",
              "    }\n",
              "\n",
              "    .dataframe tbody tr th {\n",
              "        vertical-align: top;\n",
              "    }\n",
              "\n",
              "    .dataframe thead th {\n",
              "        text-align: right;\n",
              "    }\n",
              "</style>\n",
              "<table border=\"1\" class=\"dataframe\">\n",
              "  <thead>\n",
              "    <tr style=\"text-align: right;\">\n",
              "      <th></th>\n",
              "      <th>prey_p_month</th>\n",
              "      <th>hrs_indoors</th>\n",
              "      <th>n_cats</th>\n",
              "      <th>age_years</th>\n",
              "    </tr>\n",
              "  </thead>\n",
              "  <tbody>\n",
              "    <tr>\n",
              "      <th>count</th>\n",
              "      <td>101.000000</td>\n",
              "      <td>101.000000</td>\n",
              "      <td>101.000000</td>\n",
              "      <td>100.000000</td>\n",
              "    </tr>\n",
              "    <tr>\n",
              "      <th>mean</th>\n",
              "      <td>3.742574</td>\n",
              "      <td>11.856436</td>\n",
              "      <td>2.079208</td>\n",
              "      <td>5.420000</td>\n",
              "    </tr>\n",
              "    <tr>\n",
              "      <th>std</th>\n",
              "      <td>4.831467</td>\n",
              "      <td>5.227971</td>\n",
              "      <td>0.996827</td>\n",
              "      <td>3.384994</td>\n",
              "    </tr>\n",
              "    <tr>\n",
              "      <th>min</th>\n",
              "      <td>0.000000</td>\n",
              "      <td>2.500000</td>\n",
              "      <td>1.000000</td>\n",
              "      <td>0.000000</td>\n",
              "    </tr>\n",
              "    <tr>\n",
              "      <th>25%</th>\n",
              "      <td>0.500000</td>\n",
              "      <td>7.500000</td>\n",
              "      <td>1.000000</td>\n",
              "      <td>3.000000</td>\n",
              "    </tr>\n",
              "    <tr>\n",
              "      <th>50%</th>\n",
              "      <td>3.000000</td>\n",
              "      <td>12.500000</td>\n",
              "      <td>2.000000</td>\n",
              "      <td>5.000000</td>\n",
              "    </tr>\n",
              "    <tr>\n",
              "      <th>75%</th>\n",
              "      <td>3.000000</td>\n",
              "      <td>17.500000</td>\n",
              "      <td>3.000000</td>\n",
              "      <td>8.000000</td>\n",
              "    </tr>\n",
              "    <tr>\n",
              "      <th>max</th>\n",
              "      <td>17.500000</td>\n",
              "      <td>22.500000</td>\n",
              "      <td>4.000000</td>\n",
              "      <td>16.000000</td>\n",
              "    </tr>\n",
              "  </tbody>\n",
              "</table>\n",
              "</div>\n",
              "    <div class=\"colab-df-buttons\">\n",
              "\n",
              "  <div class=\"colab-df-container\">\n",
              "    <button class=\"colab-df-convert\" onclick=\"convertToInteractive('df-0368dc7d-f775-4133-9ea6-c8348c86614c')\"\n",
              "            title=\"Convert this dataframe to an interactive table.\"\n",
              "            style=\"display:none;\">\n",
              "\n",
              "  <svg xmlns=\"http://www.w3.org/2000/svg\" height=\"24px\" viewBox=\"0 -960 960 960\">\n",
              "    <path d=\"M120-120v-720h720v720H120Zm60-500h600v-160H180v160Zm220 220h160v-160H400v160Zm0 220h160v-160H400v160ZM180-400h160v-160H180v160Zm440 0h160v-160H620v160ZM180-180h160v-160H180v160Zm440 0h160v-160H620v160Z\"/>\n",
              "  </svg>\n",
              "    </button>\n",
              "\n",
              "  <style>\n",
              "    .colab-df-container {\n",
              "      display:flex;\n",
              "      gap: 12px;\n",
              "    }\n",
              "\n",
              "    .colab-df-convert {\n",
              "      background-color: #E8F0FE;\n",
              "      border: none;\n",
              "      border-radius: 50%;\n",
              "      cursor: pointer;\n",
              "      display: none;\n",
              "      fill: #1967D2;\n",
              "      height: 32px;\n",
              "      padding: 0 0 0 0;\n",
              "      width: 32px;\n",
              "    }\n",
              "\n",
              "    .colab-df-convert:hover {\n",
              "      background-color: #E2EBFA;\n",
              "      box-shadow: 0px 1px 2px rgba(60, 64, 67, 0.3), 0px 1px 3px 1px rgba(60, 64, 67, 0.15);\n",
              "      fill: #174EA6;\n",
              "    }\n",
              "\n",
              "    .colab-df-buttons div {\n",
              "      margin-bottom: 4px;\n",
              "    }\n",
              "\n",
              "    [theme=dark] .colab-df-convert {\n",
              "      background-color: #3B4455;\n",
              "      fill: #D2E3FC;\n",
              "    }\n",
              "\n",
              "    [theme=dark] .colab-df-convert:hover {\n",
              "      background-color: #434B5C;\n",
              "      box-shadow: 0px 1px 3px 1px rgba(0, 0, 0, 0.15);\n",
              "      filter: drop-shadow(0px 1px 2px rgba(0, 0, 0, 0.3));\n",
              "      fill: #FFFFFF;\n",
              "    }\n",
              "  </style>\n",
              "\n",
              "    <script>\n",
              "      const buttonEl =\n",
              "        document.querySelector('#df-0368dc7d-f775-4133-9ea6-c8348c86614c button.colab-df-convert');\n",
              "      buttonEl.style.display =\n",
              "        google.colab.kernel.accessAllowed ? 'block' : 'none';\n",
              "\n",
              "      async function convertToInteractive(key) {\n",
              "        const element = document.querySelector('#df-0368dc7d-f775-4133-9ea6-c8348c86614c');\n",
              "        const dataTable =\n",
              "          await google.colab.kernel.invokeFunction('convertToInteractive',\n",
              "                                                    [key], {});\n",
              "        if (!dataTable) return;\n",
              "\n",
              "        const docLinkHtml = 'Like what you see? Visit the ' +\n",
              "          '<a target=\"_blank\" href=https://colab.research.google.com/notebooks/data_table.ipynb>data table notebook</a>'\n",
              "          + ' to learn more about interactive tables.';\n",
              "        element.innerHTML = '';\n",
              "        dataTable['output_type'] = 'display_data';\n",
              "        await google.colab.output.renderOutput(dataTable, element);\n",
              "        const docLink = document.createElement('div');\n",
              "        docLink.innerHTML = docLinkHtml;\n",
              "        element.appendChild(docLink);\n",
              "      }\n",
              "    </script>\n",
              "  </div>\n",
              "\n",
              "\n",
              "<div id=\"df-ed0260e9-e79a-4e79-8dc2-90f395ecf2c9\">\n",
              "  <button class=\"colab-df-quickchart\" onclick=\"quickchart('df-ed0260e9-e79a-4e79-8dc2-90f395ecf2c9')\"\n",
              "            title=\"Suggest charts\"\n",
              "            style=\"display:none;\">\n",
              "\n",
              "<svg xmlns=\"http://www.w3.org/2000/svg\" height=\"24px\"viewBox=\"0 0 24 24\"\n",
              "     width=\"24px\">\n",
              "    <g>\n",
              "        <path d=\"M19 3H5c-1.1 0-2 .9-2 2v14c0 1.1.9 2 2 2h14c1.1 0 2-.9 2-2V5c0-1.1-.9-2-2-2zM9 17H7v-7h2v7zm4 0h-2V7h2v10zm4 0h-2v-4h2v4z\"/>\n",
              "    </g>\n",
              "</svg>\n",
              "  </button>\n",
              "\n",
              "<style>\n",
              "  .colab-df-quickchart {\n",
              "      --bg-color: #E8F0FE;\n",
              "      --fill-color: #1967D2;\n",
              "      --hover-bg-color: #E2EBFA;\n",
              "      --hover-fill-color: #174EA6;\n",
              "      --disabled-fill-color: #AAA;\n",
              "      --disabled-bg-color: #DDD;\n",
              "  }\n",
              "\n",
              "  [theme=dark] .colab-df-quickchart {\n",
              "      --bg-color: #3B4455;\n",
              "      --fill-color: #D2E3FC;\n",
              "      --hover-bg-color: #434B5C;\n",
              "      --hover-fill-color: #FFFFFF;\n",
              "      --disabled-bg-color: #3B4455;\n",
              "      --disabled-fill-color: #666;\n",
              "  }\n",
              "\n",
              "  .colab-df-quickchart {\n",
              "    background-color: var(--bg-color);\n",
              "    border: none;\n",
              "    border-radius: 50%;\n",
              "    cursor: pointer;\n",
              "    display: none;\n",
              "    fill: var(--fill-color);\n",
              "    height: 32px;\n",
              "    padding: 0;\n",
              "    width: 32px;\n",
              "  }\n",
              "\n",
              "  .colab-df-quickchart:hover {\n",
              "    background-color: var(--hover-bg-color);\n",
              "    box-shadow: 0 1px 2px rgba(60, 64, 67, 0.3), 0 1px 3px 1px rgba(60, 64, 67, 0.15);\n",
              "    fill: var(--button-hover-fill-color);\n",
              "  }\n",
              "\n",
              "  .colab-df-quickchart-complete:disabled,\n",
              "  .colab-df-quickchart-complete:disabled:hover {\n",
              "    background-color: var(--disabled-bg-color);\n",
              "    fill: var(--disabled-fill-color);\n",
              "    box-shadow: none;\n",
              "  }\n",
              "\n",
              "  .colab-df-spinner {\n",
              "    border: 2px solid var(--fill-color);\n",
              "    border-color: transparent;\n",
              "    border-bottom-color: var(--fill-color);\n",
              "    animation:\n",
              "      spin 1s steps(1) infinite;\n",
              "  }\n",
              "\n",
              "  @keyframes spin {\n",
              "    0% {\n",
              "      border-color: transparent;\n",
              "      border-bottom-color: var(--fill-color);\n",
              "      border-left-color: var(--fill-color);\n",
              "    }\n",
              "    20% {\n",
              "      border-color: transparent;\n",
              "      border-left-color: var(--fill-color);\n",
              "      border-top-color: var(--fill-color);\n",
              "    }\n",
              "    30% {\n",
              "      border-color: transparent;\n",
              "      border-left-color: var(--fill-color);\n",
              "      border-top-color: var(--fill-color);\n",
              "      border-right-color: var(--fill-color);\n",
              "    }\n",
              "    40% {\n",
              "      border-color: transparent;\n",
              "      border-right-color: var(--fill-color);\n",
              "      border-top-color: var(--fill-color);\n",
              "    }\n",
              "    60% {\n",
              "      border-color: transparent;\n",
              "      border-right-color: var(--fill-color);\n",
              "    }\n",
              "    80% {\n",
              "      border-color: transparent;\n",
              "      border-right-color: var(--fill-color);\n",
              "      border-bottom-color: var(--fill-color);\n",
              "    }\n",
              "    90% {\n",
              "      border-color: transparent;\n",
              "      border-bottom-color: var(--fill-color);\n",
              "    }\n",
              "  }\n",
              "</style>\n",
              "\n",
              "  <script>\n",
              "    async function quickchart(key) {\n",
              "      const quickchartButtonEl =\n",
              "        document.querySelector('#' + key + ' button');\n",
              "      quickchartButtonEl.disabled = true;  // To prevent multiple clicks.\n",
              "      quickchartButtonEl.classList.add('colab-df-spinner');\n",
              "      try {\n",
              "        const charts = await google.colab.kernel.invokeFunction(\n",
              "            'suggestCharts', [key], {});\n",
              "      } catch (error) {\n",
              "        console.error('Error during call to suggestCharts:', error);\n",
              "      }\n",
              "      quickchartButtonEl.classList.remove('colab-df-spinner');\n",
              "      quickchartButtonEl.classList.add('colab-df-quickchart-complete');\n",
              "    }\n",
              "    (() => {\n",
              "      let quickchartButtonEl =\n",
              "        document.querySelector('#df-ed0260e9-e79a-4e79-8dc2-90f395ecf2c9 button');\n",
              "      quickchartButtonEl.style.display =\n",
              "        google.colab.kernel.accessAllowed ? 'block' : 'none';\n",
              "    })();\n",
              "  </script>\n",
              "</div>\n",
              "    </div>\n",
              "  </div>\n"
            ],
            "application/vnd.google.colaboratory.intrinsic+json": {
              "type": "dataframe",
              "summary": "{\n  \"name\": \"df2\",\n  \"rows\": 8,\n  \"fields\": [\n    {\n      \"column\": \"prey_p_month\",\n      \"properties\": {\n        \"dtype\": \"number\",\n        \"std\": 34.50175333680829,\n        \"min\": 0.0,\n        \"max\": 101.0,\n        \"num_unique_values\": 7,\n        \"samples\": [\n          101.0,\n          3.742574257425743,\n          3.0\n        ],\n        \"semantic_type\": \"\",\n        \"description\": \"\"\n      }\n    },\n    {\n      \"column\": \"hrs_indoors\",\n      \"properties\": {\n        \"dtype\": \"number\",\n        \"std\": 32.34593317043005,\n        \"min\": 2.5,\n        \"max\": 101.0,\n        \"num_unique_values\": 8,\n        \"samples\": [\n          11.856435643564357,\n          12.5,\n          101.0\n        ],\n        \"semantic_type\": \"\",\n        \"description\": \"\"\n      }\n    },\n    {\n      \"column\": \"n_cats\",\n      \"properties\": {\n        \"dtype\": \"number\",\n        \"std\": 35.01429310690133,\n        \"min\": 0.9968266480871352,\n        \"max\": 101.0,\n        \"num_unique_values\": 7,\n        \"samples\": [\n          101.0,\n          2.0792079207920793,\n          3.0\n        ],\n        \"semantic_type\": \"\",\n        \"description\": \"\"\n      }\n    },\n    {\n      \"column\": \"age_years\",\n      \"properties\": {\n        \"dtype\": \"number\",\n        \"std\": 33.62944883627465,\n        \"min\": 0.0,\n        \"max\": 100.0,\n        \"num_unique_values\": 8,\n        \"samples\": [\n          5.42,\n          5.0,\n          100.0\n        ],\n        \"semantic_type\": \"\",\n        \"description\": \"\"\n      }\n    }\n  ]\n}"
            }
          },
          "metadata": {},
          "execution_count": 11
        }
      ]
    },
    {
      "cell_type": "markdown",
      "source": [
        "# The distribution of the animal reproductive conditions"
      ],
      "metadata": {
        "id": "jR-jnAnxW5og"
      }
    },
    {
      "cell_type": "code",
      "source": [
        "an = df2['animal_reproductive_condition'].value_counts().plot.bar()"
      ],
      "metadata": {
        "colab": {
          "base_uri": "https://localhost:8080/",
          "height": 500
        },
        "id": "5cwU1m2LWhuU",
        "outputId": "a4b79fbe-5d68-4041-c69a-f1f1ca937c75"
      },
      "execution_count": null,
      "outputs": [
        {
          "output_type": "display_data",
          "data": {
            "text/plain": [
              "<Figure size 640x480 with 1 Axes>"
            ],
            "image/png": "[encoded data removed]"
          },
          "metadata": {}
        }
      ]
    },
    {
      "cell_type": "markdown",
      "source": [
        "Most cats were neutered"
      ],
      "metadata": {
        "id": "TcuNiKQaMWQI"
      }
    },
    {
      "cell_type": "markdown",
      "source": [
        "# Number of female and male cats"
      ],
      "metadata": {
        "id": "_BA-jSjcAQG_"
      }
    },
    {
      "cell_type": "code",
      "source": [
        "animal_taxon_y = df2['animal_sex'].value_counts().values\n",
        "\n",
        "plt.barh([\"Male\", \"Female\"], df2['animal_sex'].value_counts().values, height=0.4)\n",
        "plt.title(\"Animal Sex\")\n",
        "plt.xlabel(\"Number of cats\")\n",
        "plt.ylabel(\"Sex\")\n",
        "plt.show()\n",
        "print(df2['animal_sex'].value_counts())"
      ],
      "metadata": {
        "colab": {
          "base_uri": "https://localhost:8080/",
          "height": 541
        },
        "id": "4A8qjYEZQ2_9",
        "outputId": "51e94369-0e4b-4152-d347-05d4701ab096"
      },
      "execution_count": null,
      "outputs": [
        {
          "output_type": "display_data",
          "data": {
            "text/plain": [
              "<Figure size 640x480 with 1 Axes>"
            ],
            "image/png": "[encoded data removed]"
          },
          "metadata": {}
        },
        {
          "output_type": "stream",
          "name": "stdout",
          "text": [
            "animal_sex\n",
            "m    57\n",
            "f    44\n",
            "Name: count, dtype: int64\n"
          ]
        }
      ]
    },
    {
      "cell_type": "markdown",
      "source": [
        "Most cats in the dataset are male."
      ],
      "metadata": {
        "id": "isNt5tY6MbdY"
      }
    },
    {
      "cell_type": "markdown",
      "source": [
        "# Description of time differencies of deploy_off_date - deploy_on_date"
      ],
      "metadata": {
        "id": "QL-ZWXPEbBQQ"
      }
    },
    {
      "cell_type": "code",
      "source": [
        "date_on = list(df2['deploy_on_date'])\n",
        "\n",
        "date_on = [pd.Timestamp(i) for i in date_on]\n",
        "\n",
        "date_off = list(df2['deploy_off_date'])\n",
        "\n",
        "date_off = [pd.Timestamp(i) for i in date_off]\n",
        "\n",
        "\n",
        "date_diff = [date_off[i] - date_on[i] for i in range(len(date_on))]\n",
        "\n",
        "\n",
        "df2['deploy_date_difference'] = date_diff\n",
        "\n",
        "df2.head()\n",
        "\n",
        "df2['deploy_date_difference'].describe()"
      ],
      "metadata": {
        "colab": {
          "base_uri": "https://localhost:8080/"
        },
        "id": "PF0F-wxhVIkz",
        "outputId": "ffb90af6-2e02-49ec-862e-d9b1dfaeb3a8"
      },
      "execution_count": null,
      "outputs": [
        {
          "output_type": "execute_result",
          "data": {
            "text/plain": [
              "count                          101\n",
              "mean     7 days 00:30:28.039603960\n",
              "std      3 days 08:06:34.408889767\n",
              "min                0 days 12:10:02\n",
              "25%                6 days 07:45:51\n",
              "50%                6 days 23:25:06\n",
              "75%                7 days 06:03:25\n",
              "max               28 days 23:01:18\n",
              "Name: deploy_date_difference, dtype: object"
            ]
          },
          "metadata": {},
          "execution_count": 14
        }
      ]
    },
    {
      "cell_type": "code",
      "source": [
        "diff = []\n",
        "for i in df2['deploy_date_difference']:\n",
        "  diff.append(i.days)\n",
        "\n",
        "plt.hist(diff)\n",
        "plt.title(\"Distribution of deploy_date_differences\")\n",
        "plt.ylabel(\"Days\")\n",
        "plt.xlabel('Deploy date differences')\n",
        "plt.show()"
      ],
      "metadata": {
        "colab": {
          "base_uri": "https://localhost:8080/",
          "height": 472
        },
        "id": "flzuITCOSQg6",
        "outputId": "006272fc-c914-48b7-ecb5-32085360bdba"
      },
      "execution_count": null,
      "outputs": [
        {
          "output_type": "display_data",
          "data": {
            "text/plain": [
              "<Figure size 640x480 with 1 Axes>"
            ],
            "image/png": "[encoded data removed]"
          },
          "metadata": {}
        }
      ]
    },
    {
      "cell_type": "markdown",
      "source": [
        "# Number of cats allowed to hunt"
      ],
      "metadata": {
        "id": "8pszue_rAwZP"
      }
    },
    {
      "cell_type": "code",
      "source": [
        "x = df2['hunt'].value_counts().index\n",
        "y = list(df2['hunt'].value_counts().values)\n",
        "unknown = abs(sum(y) - len(df2))\n",
        "y.append(unknown)\n",
        "\n",
        "plt.bar(['Allowed', 'Not allowed','Not known'], y)\n",
        "plt.title(\"Allowed to hunt\")\n",
        "plt.ylabel(\"Number of cats\")\n",
        "plt.show()\n",
        "df2['hunt'].value_counts()"
      ],
      "metadata": {
        "colab": {
          "base_uri": "https://localhost:8080/",
          "height": 521
        },
        "id": "euvBxXFobPtF",
        "outputId": "249e4c2c-a9bf-43c0-e418-75d5936f668d"
      },
      "execution_count": null,
      "outputs": [
        {
          "output_type": "display_data",
          "data": {
            "text/plain": [
              "<Figure size 640x480 with 1 Axes>"
            ],
            "image/png": "[encoded data removed]"
          },
          "metadata": {}
        },
        {
          "output_type": "execute_result",
          "data": {
            "text/plain": [
              "hunt\n",
              "True     81\n",
              "False    11\n",
              "Name: count, dtype: int64"
            ]
          },
          "metadata": {},
          "execution_count": 16
        }
      ]
    },
    {
      "cell_type": "markdown",
      "source": [
        "Most cats were allowed to hunt."
      ],
      "metadata": {
        "id": "KKLT0zvhMmIp"
      }
    },
    {
      "cell_type": "code",
      "source": [
        "ls = list(df2['hunt'])\n",
        "ls2 = set(df2['hunt'])"
      ],
      "metadata": {
        "id": "2eVTzHzNcZGo"
      },
      "execution_count": null,
      "outputs": []
    },
    {
      "cell_type": "code",
      "source": [
        "df2['hunt'].value_counts()"
      ],
      "metadata": {
        "colab": {
          "base_uri": "https://localhost:8080/"
        },
        "id": "AZ_MQpY8OCX_",
        "outputId": "2cfa5aff-7bd9-44e3-cc91-27868355b913"
      },
      "execution_count": null,
      "outputs": [
        {
          "output_type": "execute_result",
          "data": {
            "text/plain": [
              "hunt\n",
              "True     81\n",
              "False    11\n",
              "Name: count, dtype: int64"
            ]
          },
          "metadata": {},
          "execution_count": 18
        }
      ]
    },
    {
      "cell_type": "markdown",
      "source": [
        "# Cat ages histogram"
      ],
      "metadata": {
        "id": "WNPF3g-dA583"
      }
    },
    {
      "cell_type": "code",
      "source": [
        "plt.hist(df2['age_years'])\n",
        "plt.title(\"Cat ages histogram\")\n",
        "plt.xlabel(\"Age\")\n",
        "plt.ylabel(\"Number of cats\")\n",
        "plt.show()"
      ],
      "metadata": {
        "colab": {
          "base_uri": "https://localhost:8080/",
          "height": 472
        },
        "id": "MU08DFYJOzA8",
        "outputId": "0b3a6391-9ba4-4a9a-87a6-fd179fdd851f"
      },
      "execution_count": null,
      "outputs": [
        {
          "output_type": "display_data",
          "data": {
            "text/plain": [
              "<Figure size 640x480 with 1 Axes>"
            ],
            "image/png": "[encoded data removed]"
          },
          "metadata": {}
        }
      ]
    },
    {
      "cell_type": "markdown",
      "source": [
        "# Hours indoors boxplot"
      ],
      "metadata": {
        "id": "OLMQh6yeA_0G"
      }
    },
    {
      "cell_type": "code",
      "source": [
        "plt.boxplot(df2['hrs_indoors'])\n",
        "plt.title('Hours indoors boxplot')\n",
        "plt.xticks([])"
      ],
      "metadata": {
        "colab": {
          "base_uri": "https://localhost:8080/",
          "height": 445
        },
        "id": "MZjIpbNmuSWb",
        "outputId": "4401ac54-8f3a-473b-bd5f-73f7ae66e6df"
      },
      "execution_count": null,
      "outputs": [
        {
          "output_type": "execute_result",
          "data": {
            "text/plain": [
              "([], [])"
            ]
          },
          "metadata": {},
          "execution_count": 20
        },
        {
          "output_type": "display_data",
          "data": {
            "text/plain": [
              "<Figure size 640x480 with 1 Axes>"
            ],
            "image/png": "[encoded data removed]"
          },
          "metadata": {}
        }
      ]
    },
    {
      "cell_type": "markdown",
      "source": [
        "There are no significant outliers in the hours indoors data"
      ],
      "metadata": {
        "id": "2BDsyLgX4L4S"
      }
    },
    {
      "cell_type": "markdown",
      "source": [
        "# Number of cats in the house boxplot"
      ],
      "metadata": {
        "id": "tqgHDAZcBECe"
      }
    },
    {
      "cell_type": "code",
      "source": [
        "plt.boxplot(df2['n_cats'])\n",
        "plt.title(\"Number of cats in the house boxplot\")\n",
        "plt.xticks([])\n",
        "plt.ylabel('Number of cats')"
      ],
      "metadata": {
        "colab": {
          "base_uri": "https://localhost:8080/",
          "height": 445
        },
        "id": "PPYrvGmGu_c9",
        "outputId": "e691d360-6f78-48c3-9a0f-78bc565f910c"
      },
      "execution_count": null,
      "outputs": [
        {
          "output_type": "execute_result",
          "data": {
            "text/plain": [
              "Text(0, 0.5, 'Number of cats')"
            ]
          },
          "metadata": {},
          "execution_count": 21
        },
        {
          "output_type": "display_data",
          "data": {
            "text/plain": [
              "<Figure size 640x480 with 1 Axes>"
            ],
            "image/png": "[encoded data removed]"
          },
          "metadata": {}
        }
      ]
    },
    {
      "cell_type": "markdown",
      "source": [
        "The mean value of number of cats in a household is 2."
      ],
      "metadata": {
        "id": "KnFU5Aw34_v6"
      }
    },
    {
      "cell_type": "markdown",
      "source": [
        "# Means over all age_years datapoints, with std as error lines"
      ],
      "metadata": {
        "id": "tuFf_sGHBMAA"
      }
    },
    {
      "cell_type": "code",
      "source": [
        "mean = df2['age_years'].mean()\n",
        "std = df2['age_years'].std()\n",
        "\n",
        "df_mean_std = pd.DataFrame({'mean': mean, 'std': std}, [\"\"])\n",
        "df_mean_std\n",
        "\n",
        "d = df_mean_std.plot(kind='bar', yerr='std')\n",
        "d.set_title(\"Means over all age_years datapoints, with std as error lines\")\n",
        "d.set_ylabel('Age')\n",
        "print(f\"The average  age of cats is: {mean}\\nThe std value of age_years: {round(std, 2)}\")"
      ],
      "metadata": {
        "colab": {
          "base_uri": "https://localhost:8080/",
          "height": 472
        },
        "id": "mgKSxSt7wqCZ",
        "outputId": "2ba49cef-b726-4dd3-a7f3-e45bf485d418"
      },
      "execution_count": null,
      "outputs": [
        {
          "output_type": "stream",
          "name": "stdout",
          "text": [
            "The average  age of cats is: 5.42\n",
            "The std value of age_years: 3.38\n"
          ]
        },
        {
          "output_type": "display_data",
          "data": {
            "text/plain": [
              "<Figure size 640x480 with 1 Axes>"
            ],
            "image/png": "[encoded data removed]"
          },
          "metadata": {}
        }
      ]
    },
    {
      "cell_type": "markdown",
      "source": [
        "# Average age of cats who were allowed/not allowed to hunt"
      ],
      "metadata": {
        "id": "o_mHnPDmBdG-"
      }
    },
    {
      "cell_type": "code",
      "source": [
        "df_filtered = df2.loc[df2['hunt'] == True]\n",
        "df_filtered_2 = df2.loc[df2['hunt'] == False]\n",
        "\n",
        "a = df_filtered['age_years'].mean()\n",
        "b = df_filtered_2['age_years'].mean()\n",
        "\n",
        "print(f\"Average age years of cats who weren't allowed to hunt: {round(b, 2)}\")\n",
        "print(f\"Average age years of cats who were allowed to hunt: {a}\")\n",
        "\n"
      ],
      "metadata": {
        "colab": {
          "base_uri": "https://localhost:8080/"
        },
        "id": "Yi3DhSfQaH62",
        "outputId": "0bfe93fd-d062-4533-bb59-60e2e7b882f2"
      },
      "execution_count": null,
      "outputs": [
        {
          "output_type": "stream",
          "name": "stdout",
          "text": [
            "Average age years of cats who weren't allowed to hunt: 5.45\n",
            "Average age years of cats who were allowed to hunt: 5.4\n"
          ]
        }
      ]
    },
    {
      "cell_type": "markdown",
      "source": [
        "# Hunt-Animal sex"
      ],
      "metadata": {
        "id": "LLSrA1YuBtn2"
      }
    },
    {
      "cell_type": "code",
      "source": [
        "df2.loc[:, ['hunt', 'animal_sex']]\n",
        "\n",
        "hunt = list(df2['hunt'])\n",
        "sex = list(df2['animal_sex'])\n",
        "\n",
        "true = [[], []]\n",
        "false = [[], []]\n",
        "\n",
        "print(set(hunt))\n",
        "\n",
        "\n",
        "for i in range(len(hunt)):\n",
        "  if hunt[i]:\n",
        "    if sex[i] == 'm':\n",
        "      true[0].append(sex[i])\n",
        "    else:\n",
        "      true[1].append(sex[i])\n",
        "  else:\n",
        "    if sex[i] == 'm':\n",
        "      false[0].append(sex[i])\n",
        "    else:\n",
        "      false[1].append(sex[i])\n",
        "false"
      ],
      "metadata": {
        "colab": {
          "base_uri": "https://localhost:8080/"
        },
        "id": "bHdLUf4xc_VJ",
        "outputId": "ca36c176-fb1c-4944-ef02-edcad85cf747"
      },
      "execution_count": null,
      "outputs": [
        {
          "output_type": "stream",
          "name": "stdout",
          "text": [
            "{False, True, nan}\n"
          ]
        },
        {
          "output_type": "execute_result",
          "data": {
            "text/plain": [
              "[['m', 'm', 'm', 'm', 'm', 'm', 'm', 'm'], ['f', 'f', 'f']]"
            ]
          },
          "metadata": {},
          "execution_count": 24
        }
      ]
    },
    {
      "cell_type": "code",
      "source": [
        "x = ['Male', 'Female']\n",
        "y = [len(true[0]), len(true[1])]\n",
        "\n",
        "plt.bar(x, y)\n",
        "plt.title(\"Distribution of cat sex who were allowed to hunt\")\n",
        "plt.xlabel(\"Sex\")\n",
        "plt.ylabel(\"Number of cats\")\n",
        "plt.show()\n"
      ],
      "metadata": {
        "colab": {
          "base_uri": "https://localhost:8080/",
          "height": 472
        },
        "id": "XjBqw23Hf1BE",
        "outputId": "c135f368-9440-46d1-83ba-fca8b93362d3"
      },
      "execution_count": null,
      "outputs": [
        {
          "output_type": "display_data",
          "data": {
            "text/plain": [
              "<Figure size 640x480 with 1 Axes>"
            ],
            "image/png": "[encoded data removed]"
          },
          "metadata": {}
        }
      ]
    },
    {
      "cell_type": "markdown",
      "source": [
        "There were more males than females among those cats who were allowed to hunt."
      ],
      "metadata": {
        "id": "-DZdnvA5g-jS"
      }
    },
    {
      "cell_type": "code",
      "source": [
        "y = [len(false[0]), len(false[1])]\n",
        "x = [\"Male\", \"Female\"]\n",
        "\n",
        "plt.bar(x, y)\n",
        "plt.title(\"Distribution of cat sex who were not allowed to hunt\")\n",
        "plt.xlabel(\"Sex\")\n",
        "plt.ylabel(\"Number of cats\")\n",
        "plt.show()"
      ],
      "metadata": {
        "colab": {
          "base_uri": "https://localhost:8080/",
          "height": 472
        },
        "id": "8MHyGHxwhW7z",
        "outputId": "c12467ee-9642-471e-af08-fe5891ce725f"
      },
      "execution_count": null,
      "outputs": [
        {
          "output_type": "display_data",
          "data": {
            "text/plain": [
              "<Figure size 640x480 with 1 Axes>"
            ],
            "image/png": "[encoded data removed]"
          },
          "metadata": {}
        }
      ]
    },
    {
      "cell_type": "markdown",
      "source": [
        "The number of males compared to females were significantly higher among those cats who were not allowed to hunt compared to those cats who were allowed to hunt."
      ],
      "metadata": {
        "id": "2IoxlG85iasC"
      }
    },
    {
      "cell_type": "markdown",
      "source": [
        "# Distribution of cats based on hunting"
      ],
      "metadata": {
        "id": "OiqbooR8B5JO"
      }
    },
    {
      "cell_type": "code",
      "source": [
        "male = [0, 0]\n",
        "female = [0, 0]\n",
        "\n",
        "for i in range(len(sex)):\n",
        "  if sex[i] == \"m\":\n",
        "    if hunt[i]:\n",
        "      male[0] += 1\n",
        "    else:\n",
        "      male[1] += 1\n",
        "  else:\n",
        "    if hunt[i]:\n",
        "      female[0] += 1\n",
        "    else:\n",
        "      female[1] += 1\n",
        "\n",
        "print(male)\n",
        "print(female)"
      ],
      "metadata": {
        "colab": {
          "base_uri": "https://localhost:8080/"
        },
        "id": "4Zh-GScTjFp0",
        "outputId": "9e0e3917-2ac7-451d-ca23-fca87a202478"
      },
      "execution_count": null,
      "outputs": [
        {
          "output_type": "stream",
          "name": "stdout",
          "text": [
            "[49, 8]\n",
            "[41, 3]\n"
          ]
        }
      ]
    },
    {
      "cell_type": "code",
      "source": [
        "labels = [\"Allowed\", 'Not_allowed']\n",
        "plt.pie(male, labels=labels, autopct=\"%.2f%%\")\n",
        "plt.title(\"Distribution of male cats based on hunting habits\")\n",
        "plt.legend()\n",
        "plt.show()"
      ],
      "metadata": {
        "colab": {
          "base_uri": "https://localhost:8080/",
          "height": 428
        },
        "id": "AyPyPH_jkZ30",
        "outputId": "c04cc711-2f8d-4a33-a584-b47ea958692f"
      },
      "execution_count": null,
      "outputs": [
        {
          "output_type": "display_data",
          "data": {
            "text/plain": [
              "<Figure size 640x480 with 1 Axes>"
            ],
            "image/png": "[encoded data removed]"
          },
          "metadata": {}
        }
      ]
    },
    {
      "cell_type": "code",
      "source": [
        "labels = [\"Allowed\", 'Not_allowed']\n",
        "plt.pie(female, labels=labels, autopct=\"%.2f%%\")\n",
        "plt.title(\"Distribution of female cats based on hunting habits\")\n",
        "plt.legend()\n",
        "plt.show()"
      ],
      "metadata": {
        "colab": {
          "base_uri": "https://localhost:8080/",
          "height": 428
        },
        "id": "UsE_0d1VlcQi",
        "outputId": "f86b6a13-246d-447e-9df0-244d5e5f2c70"
      },
      "execution_count": null,
      "outputs": [
        {
          "output_type": "display_data",
          "data": {
            "text/plain": [
              "<Figure size 640x480 with 1 Axes>"
            ],
            "image/png": "[encoded data removed]"
          },
          "metadata": {}
        }
      ]
    },
    {
      "cell_type": "markdown",
      "source": [
        "Both for females and males the vast majority of cats were allowed to hunt."
      ],
      "metadata": {
        "id": "J-TxQyImlrrp"
      }
    },
    {
      "cell_type": "markdown",
      "source": [
        "# Correlation between prey_p_month and hrs_indoors"
      ],
      "metadata": {
        "id": "7SRy2bk-CIJe"
      }
    },
    {
      "cell_type": "code",
      "source": [
        "df2.columns"
      ],
      "metadata": {
        "colab": {
          "base_uri": "https://localhost:8080/"
        },
        "id": "I4Bq-AZHbGs2",
        "outputId": "04f39031-6af3-416c-d049-7006230de0d1"
      },
      "execution_count": null,
      "outputs": [
        {
          "output_type": "execute_result",
          "data": {
            "text/plain": [
              "Index(['tag_id', 'animal_id', 'animal_taxon', 'deploy_on_date',\n",
              "       'deploy_off_date', 'hunt', 'prey_p_month',\n",
              "       'animal_reproductive_condition', 'animal_sex', 'hrs_indoors', 'n_cats',\n",
              "       'food_dry', 'food_wet', 'food_other', 'study_site', 'age_years',\n",
              "       'deploy_date_difference'],\n",
              "      dtype='object')"
            ]
          },
          "metadata": {},
          "execution_count": 30
        }
      ]
    },
    {
      "cell_type": "code",
      "source": [
        "corr1 = df2['prey_p_month'].corr(df2['hrs_indoors'])\n",
        "print(f\"The correlation between 'prey_p_month' and 'hrs_indoors' is negative: {corr1}\")"
      ],
      "metadata": {
        "colab": {
          "base_uri": "https://localhost:8080/"
        },
        "id": "f2xgfEGYbwE5",
        "outputId": "95306bbf-e44a-4b24-8317-6cc295fef86f"
      },
      "execution_count": null,
      "outputs": [
        {
          "output_type": "stream",
          "name": "stdout",
          "text": [
            "The correlation between 'prey_p_month' and 'hrs_indoors' is negative: -0.3708544546934753\n"
          ]
        }
      ]
    },
    {
      "cell_type": "markdown",
      "source": [
        "# Correlation between age_years and prey_p_month"
      ],
      "metadata": {
        "id": "RdMXAq0OCQcl"
      }
    },
    {
      "cell_type": "code",
      "source": [
        "corr2 = df2['age_years'].corr(df2['prey_p_month'])\n",
        "print(f\"The correlation between 'age_years' and 'prey_p_month' is slightly negative: {corr2}\")"
      ],
      "metadata": {
        "colab": {
          "base_uri": "https://localhost:8080/"
        },
        "id": "0oEu-AvbcQy0",
        "outputId": "5d9701b0-d2e2-4f0e-d8ca-48675a81db39"
      },
      "execution_count": null,
      "outputs": [
        {
          "output_type": "stream",
          "name": "stdout",
          "text": [
            "The correlation between 'age_years' and 'prey_p_month' is slightly negative: -0.1500039785673033\n"
          ]
        }
      ]
    },
    {
      "cell_type": "markdown",
      "source": [
        "# Correlation between hrs_indoors and age_years"
      ],
      "metadata": {
        "id": "NrpalLa7CYhd"
      }
    },
    {
      "cell_type": "code",
      "source": [
        "corr3 = df2['hrs_indoors'].corr(df2['age_years'])\n",
        "print(f\"The correlation between 'hrs_indoors' and 'age_years' is slightly positive: {corr2}\")"
      ],
      "metadata": {
        "colab": {
          "base_uri": "https://localhost:8080/"
        },
        "id": "v4mEA-99eDA2",
        "outputId": "07e63eea-bf07-40f4-ae6e-218a8cdc376e"
      },
      "execution_count": null,
      "outputs": [
        {
          "output_type": "stream",
          "name": "stdout",
          "text": [
            "The correlation between 'hrs_indoors' and 'age_years' is slightly positive: -0.1500039785673033\n"
          ]
        }
      ]
    },
    {
      "cell_type": "code",
      "source": [
        "plt.bar(['prey_p_month - hrs_indoors', 'age_years - prey_p_month', 'hrs_indoors - age_years'], [corr1, corr2, corr3])\n",
        "plt.title('Correlations between some numerical data')\n",
        "plt.xlabel('Name of the columns')\n",
        "plt.ylabel('Correlation value')\n",
        "plt.xticks(rotation=90)\n",
        "plt.show()"
      ],
      "metadata": {
        "colab": {
          "base_uri": "https://localhost:8080/",
          "height": 650
        },
        "id": "RkrwJMyseg3l",
        "outputId": "e85f0877-38df-4f42-ef19-f7e266a5fcd1"
      },
      "execution_count": null,
      "outputs": [
        {
          "output_type": "display_data",
          "data": {
            "text/plain": [
              "<Figure size 640x480 with 1 Axes>"
            ],
            "image/png": "[encoded data removed]"
          },
          "metadata": {}
        }
      ]
    },
    {
      "cell_type": "code",
      "source": [
        "df2.head()"
      ],
      "metadata": {
        "colab": {
          "base_uri": "https://localhost:8080/",
          "height": 313
        },
        "id": "rKzT-LHlgKTQ",
        "outputId": "e3a38de0-0713-44ac-cc59-31847b042cf8"
      },
      "execution_count": null,
      "outputs": [
        {
          "output_type": "execute_result",
          "data": {
            "text/plain": [
              "      tag_id animal_id animal_taxon        deploy_on_date  \\\n",
              "0  Tommy-Tag     Tommy  Felis catus  2017-06-03T01:02:09Z   \n",
              "1     Athena    Athena  Felis catus  2017-06-24T01:02:13Z   \n",
              "2       Ares      Ares  Felis catus  2017-06-24T01:03:57Z   \n",
              "3       Lola      Lola  Felis catus  2017-06-24T01:18:49Z   \n",
              "4   Maverick  Maverick  Felis catus  2017-06-25T01:04:35Z   \n",
              "\n",
              "        deploy_off_date  hunt  prey_p_month animal_reproductive_condition  \\\n",
              "0  2017-06-10T02:10:52Z  True          12.5                      Neutered   \n",
              "1  2017-06-30T23:59:32Z  True           3.0                        Spayed   \n",
              "2  2017-06-30T23:58:01Z   NaN           0.0                      Neutered   \n",
              "3  2017-06-30T09:04:40Z  True           3.0                        Spayed   \n",
              "4  2017-07-03T09:10:07Z  True           3.0                      Neutered   \n",
              "\n",
              "  animal_sex  hrs_indoors  n_cats  food_dry  food_wet food_other study_site  \\\n",
              "0          m         12.5       2      True      True      False         UK   \n",
              "1          f          7.5       2      True      True      False         UK   \n",
              "2          m          7.5       2      True      True      False         UK   \n",
              "3          f         17.5       1      True      True      False         UK   \n",
              "4          m         12.5       1      True      True       True         UK   \n",
              "\n",
              "   age_years deploy_date_difference  \n",
              "0       11.0        7 days 01:08:43  \n",
              "1        3.0        6 days 22:57:19  \n",
              "2        3.0        6 days 22:54:04  \n",
              "3       10.0        6 days 07:45:51  \n",
              "4        7.0        8 days 08:05:32  "
            ],
            "text/html": [
              "\n",
              "  <div id=\"df-94ac7af0-b192-4bb8-9de4-287ead5a6447\" class=\"colab-df-container\">\n",
              "    <div>\n",
              "<style scoped>\n",
              "    .dataframe tbody tr th:only-of-type {\n",
              "        vertical-align: middle;\n",
              "    }\n",
              "\n",
              "    .dataframe tbody tr th {\n",
              "        vertical-align: top;\n",
              "    }\n",
              "\n",
              "    .dataframe thead th {\n",
              "        text-align: right;\n",
              "    }\n",
              "</style>\n",
              "<table border=\"1\" class=\"dataframe\">\n",
              "  <thead>\n",
              "    <tr style=\"text-align: right;\">\n",
              "      <th></th>\n",
              "      <th>tag_id</th>\n",
              "      <th>animal_id</th>\n",
              "      <th>animal_taxon</th>\n",
              "      <th>deploy_on_date</th>\n",
              "      <th>deploy_off_date</th>\n",
              "      <th>hunt</th>\n",
              "      <th>prey_p_month</th>\n",
              "      <th>animal_reproductive_condition</th>\n",
              "      <th>animal_sex</th>\n",
              "      <th>hrs_indoors</th>\n",
              "      <th>n_cats</th>\n",
              "      <th>food_dry</th>\n",
              "      <th>food_wet</th>\n",
              "      <th>food_other</th>\n",
              "      <th>study_site</th>\n",
              "      <th>age_years</th>\n",
              "      <th>deploy_date_difference</th>\n",
              "    </tr>\n",
              "  </thead>\n",
              "  <tbody>\n",
              "    <tr>\n",
              "      <th>0</th>\n",
              "      <td>Tommy-Tag</td>\n",
              "      <td>Tommy</td>\n",
              "      <td>Felis catus</td>\n",
              "      <td>2017-06-03T01:02:09Z</td>\n",
              "      <td>2017-06-10T02:10:52Z</td>\n",
              "      <td>True</td>\n",
              "      <td>12.5</td>\n",
              "      <td>Neutered</td>\n",
              "      <td>m</td>\n",
              "      <td>12.5</td>\n",
              "      <td>2</td>\n",
              "      <td>True</td>\n",
              "      <td>True</td>\n",
              "      <td>False</td>\n",
              "      <td>UK</td>\n",
              "      <td>11.0</td>\n",
              "      <td>7 days 01:08:43</td>\n",
              "    </tr>\n",
              "    <tr>\n",
              "      <th>1</th>\n",
              "      <td>Athena</td>\n",
              "      <td>Athena</td>\n",
              "      <td>Felis catus</td>\n",
              "      <td>2017-06-24T01:02:13Z</td>\n",
              "      <td>2017-06-30T23:59:32Z</td>\n",
              "      <td>True</td>\n",
              "      <td>3.0</td>\n",
              "      <td>Spayed</td>\n",
              "      <td>f</td>\n",
              "      <td>7.5</td>\n",
              "      <td>2</td>\n",
              "      <td>True</td>\n",
              "      <td>True</td>\n",
              "      <td>False</td>\n",
              "      <td>UK</td>\n",
              "      <td>3.0</td>\n",
              "      <td>6 days 22:57:19</td>\n",
              "    </tr>\n",
              "    <tr>\n",
              "      <th>2</th>\n",
              "      <td>Ares</td>\n",
              "      <td>Ares</td>\n",
              "      <td>Felis catus</td>\n",
              "      <td>2017-06-24T01:03:57Z</td>\n",
              "      <td>2017-06-30T23:58:01Z</td>\n",
              "      <td>NaN</td>\n",
              "      <td>0.0</td>\n",
              "      <td>Neutered</td>\n",
              "      <td>m</td>\n",
              "      <td>7.5</td>\n",
              "      <td>2</td>\n",
              "      <td>True</td>\n",
              "      <td>True</td>\n",
              "      <td>False</td>\n",
              "      <td>UK</td>\n",
              "      <td>3.0</td>\n",
              "      <td>6 days 22:54:04</td>\n",
              "    </tr>\n",
              "    <tr>\n",
              "      <th>3</th>\n",
              "      <td>Lola</td>\n",
              "      <td>Lola</td>\n",
              "      <td>Felis catus</td>\n",
              "      <td>2017-06-24T01:18:49Z</td>\n",
              "      <td>2017-06-30T09:04:40Z</td>\n",
              "      <td>True</td>\n",
              "      <td>3.0</td>\n",
              "      <td>Spayed</td>\n",
              "      <td>f</td>\n",
              "      <td>17.5</td>\n",
              "      <td>1</td>\n",
              "      <td>True</td>\n",
              "      <td>True</td>\n",
              "      <td>False</td>\n",
              "      <td>UK</td>\n",
              "      <td>10.0</td>\n",
              "      <td>6 days 07:45:51</td>\n",
              "    </tr>\n",
              "    <tr>\n",
              "      <th>4</th>\n",
              "      <td>Maverick</td>\n",
              "      <td>Maverick</td>\n",
              "      <td>Felis catus</td>\n",
              "      <td>2017-06-25T01:04:35Z</td>\n",
              "      <td>2017-07-03T09:10:07Z</td>\n",
              "      <td>True</td>\n",
              "      <td>3.0</td>\n",
              "      <td>Neutered</td>\n",
              "      <td>m</td>\n",
              "      <td>12.5</td>\n",
              "      <td>1</td>\n",
              "      <td>True</td>\n",
              "      <td>True</td>\n",
              "      <td>True</td>\n",
              "      <td>UK</td>\n",
              "      <td>7.0</td>\n",
              "      <td>8 days 08:05:32</td>\n",
              "    </tr>\n",
              "  </tbody>\n",
              "</table>\n",
              "</div>\n",
              "    <div class=\"colab-df-buttons\">\n",
              "\n",
              "  <div class=\"colab-df-container\">\n",
              "    <button class=\"colab-df-convert\" onclick=\"convertToInteractive('df-94ac7af0-b192-4bb8-9de4-287ead5a6447')\"\n",
              "            title=\"Convert this dataframe to an interactive table.\"\n",
              "            style=\"display:none;\">\n",
              "\n",
              "  <svg xmlns=\"http://www.w3.org/2000/svg\" height=\"24px\" viewBox=\"0 -960 960 960\">\n",
              "    <path d=\"M120-120v-720h720v720H120Zm60-500h600v-160H180v160Zm220 220h160v-160H400v160Zm0 220h160v-160H400v160ZM180-400h160v-160H180v160Zm440 0h160v-160H620v160ZM180-180h160v-160H180v160Zm440 0h160v-160H620v160Z\"/>\n",
              "  </svg>\n",
              "    </button>\n",
              "\n",
              "  <style>\n",
              "    .colab-df-container {\n",
              "      display:flex;\n",
              "      gap: 12px;\n",
              "    }\n",
              "\n",
              "    .colab-df-convert {\n",
              "      background-color: #E8F0FE;\n",
              "      border: none;\n",
              "      border-radius: 50%;\n",
              "      cursor: pointer;\n",
              "      display: none;\n",
              "      fill: #1967D2;\n",
              "      height: 32px;\n",
              "      padding: 0 0 0 0;\n",
              "      width: 32px;\n",
              "    }\n",
              "\n",
              "    .colab-df-convert:hover {\n",
              "      background-color: #E2EBFA;\n",
              "      box-shadow: 0px 1px 2px rgba(60, 64, 67, 0.3), 0px 1px 3px 1px rgba(60, 64, 67, 0.15);\n",
              "      fill: #174EA6;\n",
              "    }\n",
              "\n",
              "    .colab-df-buttons div {\n",
              "      margin-bottom: 4px;\n",
              "    }\n",
              "\n",
              "    [theme=dark] .colab-df-convert {\n",
              "      background-color: #3B4455;\n",
              "      fill: #D2E3FC;\n",
              "    }\n",
              "\n",
              "    [theme=dark] .colab-df-convert:hover {\n",
              "      background-color: #434B5C;\n",
              "      box-shadow: 0px 1px 3px 1px rgba(0, 0, 0, 0.15);\n",
              "      filter: drop-shadow(0px 1px 2px rgba(0, 0, 0, 0.3));\n",
              "      fill: #FFFFFF;\n",
              "    }\n",
              "  </style>\n",
              "\n",
              "    <script>\n",
              "      const buttonEl =\n",
              "        document.querySelector('#df-94ac7af0-b192-4bb8-9de4-287ead5a6447 button.colab-df-convert');\n",
              "      buttonEl.style.display =\n",
              "        google.colab.kernel.accessAllowed ? 'block' : 'none';\n",
              "\n",
              "      async function convertToInteractive(key) {\n",
              "        const element = document.querySelector('#df-94ac7af0-b192-4bb8-9de4-287ead5a6447');\n",
              "        const dataTable =\n",
              "          await google.colab.kernel.invokeFunction('convertToInteractive',\n",
              "                                                    [key], {});\n",
              "        if (!dataTable) return;\n",
              "\n",
              "        const docLinkHtml = 'Like what you see? Visit the ' +\n",
              "          '<a target=\"_blank\" href=https://colab.research.google.com/notebooks/data_table.ipynb>data table notebook</a>'\n",
              "          + ' to learn more about interactive tables.';\n",
              "        element.innerHTML = '';\n",
              "        dataTable['output_type'] = 'display_data';\n",
              "        await google.colab.output.renderOutput(dataTable, element);\n",
              "        const docLink = document.createElement('div');\n",
              "        docLink.innerHTML = docLinkHtml;\n",
              "        element.appendChild(docLink);\n",
              "      }\n",
              "    </script>\n",
              "  </div>\n",
              "\n",
              "\n",
              "<div id=\"df-1a04c9db-5736-4a9d-acb7-c8005ec6698e\">\n",
              "  <button class=\"colab-df-quickchart\" onclick=\"quickchart('df-1a04c9db-5736-4a9d-acb7-c8005ec6698e')\"\n",
              "            title=\"Suggest charts\"\n",
              "            style=\"display:none;\">\n",
              "\n",
              "<svg xmlns=\"http://www.w3.org/2000/svg\" height=\"24px\"viewBox=\"0 0 24 24\"\n",
              "     width=\"24px\">\n",
              "    <g>\n",
              "        <path d=\"M19 3H5c-1.1 0-2 .9-2 2v14c0 1.1.9 2 2 2h14c1.1 0 2-.9 2-2V5c0-1.1-.9-2-2-2zM9 17H7v-7h2v7zm4 0h-2V7h2v10zm4 0h-2v-4h2v4z\"/>\n",
              "    </g>\n",
              "</svg>\n",
              "  </button>\n",
              "\n",
              "<style>\n",
              "  .colab-df-quickchart {\n",
              "      --bg-color: #E8F0FE;\n",
              "      --fill-color: #1967D2;\n",
              "      --hover-bg-color: #E2EBFA;\n",
              "      --hover-fill-color: #174EA6;\n",
              "      --disabled-fill-color: #AAA;\n",
              "      --disabled-bg-color: #DDD;\n",
              "  }\n",
              "\n",
              "  [theme=dark] .colab-df-quickchart {\n",
              "      --bg-color: #3B4455;\n",
              "      --fill-color: #D2E3FC;\n",
              "      --hover-bg-color: #434B5C;\n",
              "      --hover-fill-color: #FFFFFF;\n",
              "      --disabled-bg-color: #3B4455;\n",
              "      --disabled-fill-color: #666;\n",
              "  }\n",
              "\n",
              "  .colab-df-quickchart {\n",
              "    background-color: var(--bg-color);\n",
              "    border: none;\n",
              "    border-radius: 50%;\n",
              "    cursor: pointer;\n",
              "    display: none;\n",
              "    fill: var(--fill-color);\n",
              "    height: 32px;\n",
              "    padding: 0;\n",
              "    width: 32px;\n",
              "  }\n",
              "\n",
              "  .colab-df-quickchart:hover {\n",
              "    background-color: var(--hover-bg-color);\n",
              "    box-shadow: 0 1px 2px rgba(60, 64, 67, 0.3), 0 1px 3px 1px rgba(60, 64, 67, 0.15);\n",
              "    fill: var(--button-hover-fill-color);\n",
              "  }\n",
              "\n",
              "  .colab-df-quickchart-complete:disabled,\n",
              "  .colab-df-quickchart-complete:disabled:hover {\n",
              "    background-color: var(--disabled-bg-color);\n",
              "    fill: var(--disabled-fill-color);\n",
              "    box-shadow: none;\n",
              "  }\n",
              "\n",
              "  .colab-df-spinner {\n",
              "    border: 2px solid var(--fill-color);\n",
              "    border-color: transparent;\n",
              "    border-bottom-color: var(--fill-color);\n",
              "    animation:\n",
              "      spin 1s steps(1) infinite;\n",
              "  }\n",
              "\n",
              "  @keyframes spin {\n",
              "    0% {\n",
              "      border-color: transparent;\n",
              "      border-bottom-color: var(--fill-color);\n",
              "      border-left-color: var(--fill-color);\n",
              "    }\n",
              "    20% {\n",
              "      border-color: transparent;\n",
              "      border-left-color: var(--fill-color);\n",
              "      border-top-color: var(--fill-color);\n",
              "    }\n",
              "    30% {\n",
              "      border-color: transparent;\n",
              "      border-left-color: var(--fill-color);\n",
              "      border-top-color: var(--fill-color);\n",
              "      border-right-color: var(--fill-color);\n",
              "    }\n",
              "    40% {\n",
              "      border-color: transparent;\n",
              "      border-right-color: var(--fill-color);\n",
              "      border-top-color: var(--fill-color);\n",
              "    }\n",
              "    60% {\n",
              "      border-color: transparent;\n",
              "      border-right-color: var(--fill-color);\n",
              "    }\n",
              "    80% {\n",
              "      border-color: transparent;\n",
              "      border-right-color: var(--fill-color);\n",
              "      border-bottom-color: var(--fill-color);\n",
              "    }\n",
              "    90% {\n",
              "      border-color: transparent;\n",
              "      border-bottom-color: var(--fill-color);\n",
              "    }\n",
              "  }\n",
              "</style>\n",
              "\n",
              "  <script>\n",
              "    async function quickchart(key) {\n",
              "      const quickchartButtonEl =\n",
              "        document.querySelector('#' + key + ' button');\n",
              "      quickchartButtonEl.disabled = true;  // To prevent multiple clicks.\n",
              "      quickchartButtonEl.classList.add('colab-df-spinner');\n",
              "      try {\n",
              "        const charts = await google.colab.kernel.invokeFunction(\n",
              "            'suggestCharts', [key], {});\n",
              "      } catch (error) {\n",
              "        console.error('Error during call to suggestCharts:', error);\n",
              "      }\n",
              "      quickchartButtonEl.classList.remove('colab-df-spinner');\n",
              "      quickchartButtonEl.classList.add('colab-df-quickchart-complete');\n",
              "    }\n",
              "    (() => {\n",
              "      let quickchartButtonEl =\n",
              "        document.querySelector('#df-1a04c9db-5736-4a9d-acb7-c8005ec6698e button');\n",
              "      quickchartButtonEl.style.display =\n",
              "        google.colab.kernel.accessAllowed ? 'block' : 'none';\n",
              "    })();\n",
              "  </script>\n",
              "</div>\n",
              "    </div>\n",
              "  </div>\n"
            ],
            "application/vnd.google.colaboratory.intrinsic+json": {
              "type": "dataframe",
              "variable_name": "df2",
              "summary": "{\n  \"name\": \"df2\",\n  \"rows\": 101,\n  \"fields\": [\n    {\n      \"column\": \"tag_id\",\n      \"properties\": {\n        \"dtype\": \"string\",\n        \"num_unique_values\": 101,\n        \"samples\": [\n          \"Pants-Tag\",\n          \"Frank-Tag\",\n          \"Teddy-Tag\"\n        ],\n        \"semantic_type\": \"\",\n        \"description\": \"\"\n      }\n    },\n    {\n      \"column\": \"animal_id\",\n      \"properties\": {\n        \"dtype\": \"string\",\n        \"num_unique_values\": 101,\n        \"samples\": [\n          \"Pants\",\n          \"Frank\",\n          \"Teddy\"\n        ],\n        \"semantic_type\": \"\",\n        \"description\": \"\"\n      }\n    },\n    {\n      \"column\": \"animal_taxon\",\n      \"properties\": {\n        \"dtype\": \"category\",\n        \"num_unique_values\": 1,\n        \"samples\": [\n          \"Felis catus\"\n        ],\n        \"semantic_type\": \"\",\n        \"description\": \"\"\n      }\n    },\n    {\n      \"column\": \"deploy_on_date\",\n      \"properties\": {\n        \"dtype\": \"object\",\n        \"num_unique_values\": 100,\n        \"samples\": [\n          \"2017-09-25T01:20:25Z\"\n        ],\n        \"semantic_type\": \"\",\n        \"description\": \"\"\n      }\n    },\n    {\n      \"column\": \"deploy_off_date\",\n      \"properties\": {\n        \"dtype\": \"object\",\n        \"num_unique_values\": 101,\n        \"samples\": [\n          \"2017-10-03T10:45:33Z\"\n        ],\n        \"semantic_type\": \"\",\n        \"description\": \"\"\n      }\n    },\n    {\n      \"column\": \"hunt\",\n      \"properties\": {\n        \"dtype\": \"category\",\n        \"num_unique_values\": 2,\n        \"samples\": [\n          false\n        ],\n        \"semantic_type\": \"\",\n        \"description\": \"\"\n      }\n    },\n    {\n      \"column\": \"prey_p_month\",\n      \"properties\": {\n        \"dtype\": \"number\",\n        \"std\": 4.831466579303917,\n        \"min\": 0.0,\n        \"max\": 17.5,\n        \"num_unique_values\": 6,\n        \"samples\": [\n          12.5\n        ],\n        \"semantic_type\": \"\",\n        \"description\": \"\"\n      }\n    },\n    {\n      \"column\": \"animal_reproductive_condition\",\n      \"properties\": {\n        \"dtype\": \"category\",\n        \"num_unique_values\": 3,\n        \"samples\": [\n          \"Neutered\"\n        ],\n        \"semantic_type\": \"\",\n        \"description\": \"\"\n      }\n    },\n    {\n      \"column\": \"animal_sex\",\n      \"properties\": {\n        \"dtype\": \"category\",\n        \"num_unique_values\": 2,\n        \"samples\": [\n          \"f\"\n        ],\n        \"semantic_type\": \"\",\n        \"description\": \"\"\n      }\n    },\n    {\n      \"column\": \"hrs_indoors\",\n      \"properties\": {\n        \"dtype\": \"number\",\n        \"std\": 5.227971228719305,\n        \"min\": 2.5,\n        \"max\": 22.5,\n        \"num_unique_values\": 5,\n        \"samples\": [\n          7.5\n        ],\n        \"semantic_type\": \"\",\n        \"description\": \"\"\n      }\n    },\n    {\n      \"column\": \"n_cats\",\n      \"properties\": {\n        \"dtype\": \"number\",\n        \"std\": 0,\n        \"min\": 1,\n        \"max\": 4,\n        \"num_unique_values\": 4,\n        \"samples\": [\n          1\n        ],\n        \"semantic_type\": \"\",\n        \"description\": \"\"\n      }\n    },\n    {\n      \"column\": \"food_dry\",\n      \"properties\": {\n        \"dtype\": \"boolean\",\n        \"num_unique_values\": 2,\n        \"samples\": [\n          false\n        ],\n        \"semantic_type\": \"\",\n        \"description\": \"\"\n      }\n    },\n    {\n      \"column\": \"food_wet\",\n      \"properties\": {\n        \"dtype\": \"boolean\",\n        \"num_unique_values\": 2,\n        \"samples\": [\n          false\n        ],\n        \"semantic_type\": \"\",\n        \"description\": \"\"\n      }\n    },\n    {\n      \"column\": \"food_other\",\n      \"properties\": {\n        \"dtype\": \"category\",\n        \"num_unique_values\": 2,\n        \"samples\": [\n          true\n        ],\n        \"semantic_type\": \"\",\n        \"description\": \"\"\n      }\n    },\n    {\n      \"column\": \"study_site\",\n      \"properties\": {\n        \"dtype\": \"category\",\n        \"num_unique_values\": 1,\n        \"samples\": [\n          \"UK\"\n        ],\n        \"semantic_type\": \"\",\n        \"description\": \"\"\n      }\n    },\n    {\n      \"column\": \"age_years\",\n      \"properties\": {\n        \"dtype\": \"number\",\n        \"std\": 3.384993621586578,\n        \"min\": 0.0,\n        \"max\": 16.0,\n        \"num_unique_values\": 16,\n        \"samples\": [\n          11.0\n        ],\n        \"semantic_type\": \"\",\n        \"description\": \"\"\n      }\n    },\n    {\n      \"column\": \"deploy_date_difference\",\n      \"properties\": {\n        \"dtype\": \"timedelta64[ns]\",\n        \"num_unique_values\": 101,\n        \"samples\": [\n          \"5 days 09:43:33\"\n        ],\n        \"semantic_type\": \"\",\n        \"description\": \"\"\n      }\n    }\n  ]\n}"
            }
          },
          "metadata": {},
          "execution_count": 35
        }
      ]
    },
    {
      "cell_type": "markdown",
      "source": [
        "# Average age by animal_reproductive_condition"
      ],
      "metadata": {
        "id": "I1ZLXPc1Cxm1"
      }
    },
    {
      "cell_type": "code",
      "source": [
        "df2['animal_reproductive_condition'].nunique()"
      ],
      "metadata": {
        "colab": {
          "base_uri": "https://localhost:8080/"
        },
        "id": "2fcKgwqhg1xP",
        "outputId": "d37b9f68-ec8f-478a-d425-d7d2465bbf94"
      },
      "execution_count": null,
      "outputs": [
        {
          "output_type": "execute_result",
          "data": {
            "text/plain": [
              "3"
            ]
          },
          "metadata": {},
          "execution_count": 36
        }
      ]
    },
    {
      "cell_type": "code",
      "source": [
        "new_df2 = df2[['animal_reproductive_condition', 'age_years']].dropna(axis=0)\n",
        "cond = list(new_df2['animal_reproductive_condition'])\n",
        "age = list(new_df2['age_years'])\n",
        "\n",
        "print(len(cond), len(age))\n",
        "\n",
        "neutered = [0, 0]\n",
        "spayed = [0, 0]\n",
        "not_fixed = [0, 0]\n",
        "\n",
        "for i in range(len(cond)):\n",
        "  if cond[i] == 'Neutered':\n",
        "    neutered[0] += age[i]\n",
        "    neutered[1] += 1\n",
        "  elif cond[i] == 'Spayed':\n",
        "    spayed[0] += age[i]\n",
        "    spayed[1] += 1\n",
        "  else:\n",
        "    not_fixed[0] += age[i]\n",
        "    not_fixed[1] += 1\n",
        "\n",
        "print(neutered, spayed, not_fixed)\n",
        "\n"
      ],
      "metadata": {
        "colab": {
          "base_uri": "https://localhost:8080/"
        },
        "id": "rlmlrgaIhEbt",
        "outputId": "00e59ce0-a21d-41ba-95ec-44946718ba99"
      },
      "execution_count": null,
      "outputs": [
        {
          "output_type": "stream",
          "name": "stdout",
          "text": [
            "97 97\n",
            "[253.0, 54] [268.0, 41] [4.0, 2]\n"
          ]
        }
      ]
    },
    {
      "cell_type": "code",
      "source": [
        "plt.bar(['Neutered', 'Spayed', 'Not_fixed'], [neutered[0]/neutered[1], spayed[0]/spayed[1], not_fixed[0]/not_fixed[1]])\n",
        "plt.title(\"Average age by 'animal_reproductive_condition'\")\n",
        "plt.xlabel('animal_reproductive_condition')\n",
        "plt.ylabel('Average age')\n",
        "plt.show()"
      ],
      "metadata": {
        "colab": {
          "base_uri": "https://localhost:8080/",
          "height": 472
        },
        "id": "sYuWnXdXkMBw",
        "outputId": "c42572f3-f279-4155-9d95-f6a43d3544a2"
      },
      "execution_count": null,
      "outputs": [
        {
          "output_type": "display_data",
          "data": {
            "text/plain": [
              "<Figure size 640x480 with 1 Axes>"
            ],
            "image/png": "[encoded data removed]"
          },
          "metadata": {}
        }
      ]
    },
    {
      "cell_type": "markdown",
      "source": [
        "Average age of the spayed cats is higher than neutered cats"
      ],
      "metadata": {
        "id": "RLMlr_BCsM-6"
      }
    },
    {
      "cell_type": "markdown",
      "source": [
        "# Prey per month by cat sex"
      ],
      "metadata": {
        "id": "t5WnNO9-C7fl"
      }
    },
    {
      "cell_type": "code",
      "source": [
        "df2[['animal_sex', 'prey_p_month']]\n",
        "\n",
        "sex = list(df2['animal_sex'])\n",
        "prey = list(df2['prey_p_month'])\n",
        "\n",
        "male = [0, 0]\n",
        "female = [0, 0]\n",
        "\n",
        "for i in range(len(sex)):\n",
        "  if sex[i] == 'm':\n",
        "    male[0] += prey[i]\n",
        "    male[1] += 1\n",
        "  elif sex[i] == 'f':\n",
        "    female[0] += prey[i]\n",
        "    female[1] += 1\n",
        "print(male, female)\n",
        "\n",
        "plt.bar(['Male', 'Female'], [male[0]/male[1], female[0]/female[1]])\n",
        "plt.title(\"Prey per month by cat sex\")\n",
        "plt.xlabel('Cat sex')\n",
        "plt.ylabel('Average of preys')\n",
        "plt.show()"
      ],
      "metadata": {
        "colab": {
          "base_uri": "https://localhost:8080/",
          "height": 489
        },
        "id": "7eTyh_J1mL8X",
        "outputId": "936f6256-da4a-4abc-efb6-803acbf4edd6"
      },
      "execution_count": null,
      "outputs": [
        {
          "output_type": "stream",
          "name": "stdout",
          "text": [
            "[214.0, 57] [164.0, 44]\n"
          ]
        },
        {
          "output_type": "display_data",
          "data": {
            "text/plain": [
              "<Figure size 640x480 with 1 Axes>"
            ],
            "image/png": "[encoded data removed]"
          },
          "metadata": {}
        }
      ]
    },
    {
      "cell_type": "markdown",
      "source": [
        "There is no significant difference between 'prey_p_month' for male and female cats"
      ],
      "metadata": {
        "id": "ufT37m-wuueF"
      }
    },
    {
      "cell_type": "markdown",
      "source": [
        "# Average age by cat sex"
      ],
      "metadata": {
        "id": "m1umjZRsOzVd"
      }
    },
    {
      "cell_type": "code",
      "source": [
        "df2[['age_years', 'animal_sex']]\n",
        "\n",
        "male = [0, 0]\n",
        "female = [0, 0]\n",
        "\n",
        "years = list(df2['age_years'])\n",
        "sex = list(df2['animal_sex'])\n",
        "\n",
        "for i in range(len(years)):\n",
        "  if sex[i] == 'm':\n",
        "    male[0] += 1\n",
        "    if years[i] > 0:\n",
        "      male[1] += years[i]\n",
        "  elif sex[i] == 'f':\n",
        "    female[0] += 1\n",
        "    female[1] += years[i]\n",
        "\n",
        "male, female\n",
        "\n",
        "plt.bar(['Male', 'Female'], [male[1]/male[0], female[1]/female[0]])\n",
        "plt.title(\"Average age by cat sex\")\n",
        "plt.ylabel(\"Average age\")\n",
        "plt.show()"
      ],
      "metadata": {
        "id": "DvUnAty5r5eW",
        "colab": {
          "base_uri": "https://localhost:8080/",
          "height": 452
        },
        "outputId": "f1cc2838-d556-4611-9699-ec2aaf960035"
      },
      "execution_count": null,
      "outputs": [
        {
          "output_type": "display_data",
          "data": {
            "text/plain": [
              "<Figure size 640x480 with 1 Axes>"
            ],
            "image/png": "[encoded data removed]"
          },
          "metadata": {}
        }
      ]
    },
    {
      "cell_type": "markdown",
      "source": [
        "The average age of female cats is higher than the average age of male cats."
      ],
      "metadata": {
        "id": "AjnbFTR3v4pg"
      }
    },
    {
      "cell_type": "markdown",
      "source": [
        "# Average hrs_indoors by cat sex"
      ],
      "metadata": {
        "id": "q-gCeuR5PKM0"
      }
    },
    {
      "cell_type": "code",
      "source": [
        "df2[['hrs_indoors', 'animal_sex']]\n",
        "\n",
        "male = [0, 0]\n",
        "female = [0, 0]\n",
        "\n",
        "hrs = list(df2['hrs_indoors'])\n",
        "sex = list(df2['animal_sex'])\n",
        "\n",
        "for i in range(len(hrs)):\n",
        "  if sex[i] == 'm':\n",
        "    male[0] += 1\n",
        "    male[1] += hrs[i]\n",
        "  elif sex[i] == 'f':\n",
        "    female[0] += 1\n",
        "    female[1] += hrs[i]\n",
        "\n",
        "print(male, female)\n",
        "\n",
        "plt.bar(['Male', 'Female'], [male[1]/male[0], female[1]/female[0]])\n",
        "plt.title(\"Average value of hrs_indoors by cat sex\")\n",
        "plt.ylabel(\"hrs_indoors\")\n",
        "plt.show()"
      ],
      "metadata": {
        "colab": {
          "base_uri": "https://localhost:8080/",
          "height": 469
        },
        "id": "LPQqFweVvxcJ",
        "outputId": "6bf4687a-b5de-413e-b0d8-340b6c60e327"
      },
      "execution_count": null,
      "outputs": [
        {
          "output_type": "stream",
          "name": "stdout",
          "text": [
            "[57, 642.5] [44, 555.0]\n"
          ]
        },
        {
          "output_type": "display_data",
          "data": {
            "text/plain": [
              "<Figure size 640x480 with 1 Axes>"
            ],
            "image/png": "[encoded data removed]"
          },
          "metadata": {}
        }
      ]
    },
    {
      "cell_type": "markdown",
      "source": [
        "The average hrs_indoors is higher for female cats than for male cats."
      ],
      "metadata": {
        "id": "xNE92h-BxLCW"
      }
    },
    {
      "cell_type": "markdown",
      "source": [
        "# Average prey_p_month by animal_reproductive_condition"
      ],
      "metadata": {
        "id": "V6WrTg32SpdT"
      }
    },
    {
      "cell_type": "code",
      "source": [
        "df2['animal_reproductive_condition'].unique()\n",
        "prey_animal_rep_df = df2[['prey_p_month', 'animal_reproductive_condition']].groupby(by='animal_reproductive_condition').mean()\n",
        "prey_animal_rep_df"
      ],
      "metadata": {
        "colab": {
          "base_uri": "https://localhost:8080/",
          "height": 175
        },
        "id": "2quimi6LyB6b",
        "outputId": "b7d4e729-4840-4825-955e-e34e2a331149"
      },
      "execution_count": null,
      "outputs": [
        {
          "output_type": "execute_result",
          "data": {
            "text/plain": [
              "                               prey_p_month\n",
              "animal_reproductive_condition              \n",
              "Neutered                           3.700000\n",
              "Not fixed                          1.750000\n",
              "Spayed                             3.841463"
            ],
            "text/html": [
              "\n",
              "  <div id=\"df-330ce9ed-7308-47ce-b4f0-22e4327d4a43\" class=\"colab-df-container\">\n",
              "    <div>\n",
              "<style scoped>\n",
              "    .dataframe tbody tr th:only-of-type {\n",
              "        vertical-align: middle;\n",
              "    }\n",
              "\n",
              "    .dataframe tbody tr th {\n",
              "        vertical-align: top;\n",
              "    }\n",
              "\n",
              "    .dataframe thead th {\n",
              "        text-align: right;\n",
              "    }\n",
              "</style>\n",
              "<table border=\"1\" class=\"dataframe\">\n",
              "  <thead>\n",
              "    <tr style=\"text-align: right;\">\n",
              "      <th></th>\n",
              "      <th>prey_p_month</th>\n",
              "    </tr>\n",
              "    <tr>\n",
              "      <th>animal_reproductive_condition</th>\n",
              "      <th></th>\n",
              "    </tr>\n",
              "  </thead>\n",
              "  <tbody>\n",
              "    <tr>\n",
              "      <th>Neutered</th>\n",
              "      <td>3.700000</td>\n",
              "    </tr>\n",
              "    <tr>\n",
              "      <th>Not fixed</th>\n",
              "      <td>1.750000</td>\n",
              "    </tr>\n",
              "    <tr>\n",
              "      <th>Spayed</th>\n",
              "      <td>3.841463</td>\n",
              "    </tr>\n",
              "  </tbody>\n",
              "</table>\n",
              "</div>\n",
              "    <div class=\"colab-df-buttons\">\n",
              "\n",
              "  <div class=\"colab-df-container\">\n",
              "    <button class=\"colab-df-convert\" onclick=\"convertToInteractive('df-330ce9ed-7308-47ce-b4f0-22e4327d4a43')\"\n",
              "            title=\"Convert this dataframe to an interactive table.\"\n",
              "            style=\"display:none;\">\n",
              "\n",
              "  <svg xmlns=\"http://www.w3.org/2000/svg\" height=\"24px\" viewBox=\"0 -960 960 960\">\n",
              "    <path d=\"M120-120v-720h720v720H120Zm60-500h600v-160H180v160Zm220 220h160v-160H400v160Zm0 220h160v-160H400v160ZM180-400h160v-160H180v160Zm440 0h160v-160H620v160ZM180-180h160v-160H180v160Zm440 0h160v-160H620v160Z\"/>\n",
              "  </svg>\n",
              "    </button>\n",
              "\n",
              "  <style>\n",
              "    .colab-df-container {\n",
              "      display:flex;\n",
              "      gap: 12px;\n",
              "    }\n",
              "\n",
              "    .colab-df-convert {\n",
              "      background-color: #E8F0FE;\n",
              "      border: none;\n",
              "      border-radius: 50%;\n",
              "      cursor: pointer;\n",
              "      display: none;\n",
              "      fill: #1967D2;\n",
              "      height: 32px;\n",
              "      padding: 0 0 0 0;\n",
              "      width: 32px;\n",
              "    }\n",
              "\n",
              "    .colab-df-convert:hover {\n",
              "      background-color: #E2EBFA;\n",
              "      box-shadow: 0px 1px 2px rgba(60, 64, 67, 0.3), 0px 1px 3px 1px rgba(60, 64, 67, 0.15);\n",
              "      fill: #174EA6;\n",
              "    }\n",
              "\n",
              "    .colab-df-buttons div {\n",
              "      margin-bottom: 4px;\n",
              "    }\n",
              "\n",
              "    [theme=dark] .colab-df-convert {\n",
              "      background-color: #3B4455;\n",
              "      fill: #D2E3FC;\n",
              "    }\n",
              "\n",
              "    [theme=dark] .colab-df-convert:hover {\n",
              "      background-color: #434B5C;\n",
              "      box-shadow: 0px 1px 3px 1px rgba(0, 0, 0, 0.15);\n",
              "      filter: drop-shadow(0px 1px 2px rgba(0, 0, 0, 0.3));\n",
              "      fill: #FFFFFF;\n",
              "    }\n",
              "  </style>\n",
              "\n",
              "    <script>\n",
              "      const buttonEl =\n",
              "        document.querySelector('#df-330ce9ed-7308-47ce-b4f0-22e4327d4a43 button.colab-df-convert');\n",
              "      buttonEl.style.display =\n",
              "        google.colab.kernel.accessAllowed ? 'block' : 'none';\n",
              "\n",
              "      async function convertToInteractive(key) {\n",
              "        const element = document.querySelector('#df-330ce9ed-7308-47ce-b4f0-22e4327d4a43');\n",
              "        const dataTable =\n",
              "          await google.colab.kernel.invokeFunction('convertToInteractive',\n",
              "                                                    [key], {});\n",
              "        if (!dataTable) return;\n",
              "\n",
              "        const docLinkHtml = 'Like what you see? Visit the ' +\n",
              "          '<a target=\"_blank\" href=https://colab.research.google.com/notebooks/data_table.ipynb>data table notebook</a>'\n",
              "          + ' to learn more about interactive tables.';\n",
              "        element.innerHTML = '';\n",
              "        dataTable['output_type'] = 'display_data';\n",
              "        await google.colab.output.renderOutput(dataTable, element);\n",
              "        const docLink = document.createElement('div');\n",
              "        docLink.innerHTML = docLinkHtml;\n",
              "        element.appendChild(docLink);\n",
              "      }\n",
              "    </script>\n",
              "  </div>\n",
              "\n",
              "\n",
              "<div id=\"df-dc9d9931-c9e5-4957-a1fb-ae5258872d79\">\n",
              "  <button class=\"colab-df-quickchart\" onclick=\"quickchart('df-dc9d9931-c9e5-4957-a1fb-ae5258872d79')\"\n",
              "            title=\"Suggest charts\"\n",
              "            style=\"display:none;\">\n",
              "\n",
              "<svg xmlns=\"http://www.w3.org/2000/svg\" height=\"24px\"viewBox=\"0 0 24 24\"\n",
              "     width=\"24px\">\n",
              "    <g>\n",
              "        <path d=\"M19 3H5c-1.1 0-2 .9-2 2v14c0 1.1.9 2 2 2h14c1.1 0 2-.9 2-2V5c0-1.1-.9-2-2-2zM9 17H7v-7h2v7zm4 0h-2V7h2v10zm4 0h-2v-4h2v4z\"/>\n",
              "    </g>\n",
              "</svg>\n",
              "  </button>\n",
              "\n",
              "<style>\n",
              "  .colab-df-quickchart {\n",
              "      --bg-color: #E8F0FE;\n",
              "      --fill-color: #1967D2;\n",
              "      --hover-bg-color: #E2EBFA;\n",
              "      --hover-fill-color: #174EA6;\n",
              "      --disabled-fill-color: #AAA;\n",
              "      --disabled-bg-color: #DDD;\n",
              "  }\n",
              "\n",
              "  [theme=dark] .colab-df-quickchart {\n",
              "      --bg-color: #3B4455;\n",
              "      --fill-color: #D2E3FC;\n",
              "      --hover-bg-color: #434B5C;\n",
              "      --hover-fill-color: #FFFFFF;\n",
              "      --disabled-bg-color: #3B4455;\n",
              "      --disabled-fill-color: #666;\n",
              "  }\n",
              "\n",
              "  .colab-df-quickchart {\n",
              "    background-color: var(--bg-color);\n",
              "    border: none;\n",
              "    border-radius: 50%;\n",
              "    cursor: pointer;\n",
              "    display: none;\n",
              "    fill: var(--fill-color);\n",
              "    height: 32px;\n",
              "    padding: 0;\n",
              "    width: 32px;\n",
              "  }\n",
              "\n",
              "  .colab-df-quickchart:hover {\n",
              "    background-color: var(--hover-bg-color);\n",
              "    box-shadow: 0 1px 2px rgba(60, 64, 67, 0.3), 0 1px 3px 1px rgba(60, 64, 67, 0.15);\n",
              "    fill: var(--button-hover-fill-color);\n",
              "  }\n",
              "\n",
              "  .colab-df-quickchart-complete:disabled,\n",
              "  .colab-df-quickchart-complete:disabled:hover {\n",
              "    background-color: var(--disabled-bg-color);\n",
              "    fill: var(--disabled-fill-color);\n",
              "    box-shadow: none;\n",
              "  }\n",
              "\n",
              "  .colab-df-spinner {\n",
              "    border: 2px solid var(--fill-color);\n",
              "    border-color: transparent;\n",
              "    border-bottom-color: var(--fill-color);\n",
              "    animation:\n",
              "      spin 1s steps(1) infinite;\n",
              "  }\n",
              "\n",
              "  @keyframes spin {\n",
              "    0% {\n",
              "      border-color: transparent;\n",
              "      border-bottom-color: var(--fill-color);\n",
              "      border-left-color: var(--fill-color);\n",
              "    }\n",
              "    20% {\n",
              "      border-color: transparent;\n",
              "      border-left-color: var(--fill-color);\n",
              "      border-top-color: var(--fill-color);\n",
              "    }\n",
              "    30% {\n",
              "      border-color: transparent;\n",
              "      border-left-color: var(--fill-color);\n",
              "      border-top-color: var(--fill-color);\n",
              "      border-right-color: var(--fill-color);\n",
              "    }\n",
              "    40% {\n",
              "      border-color: transparent;\n",
              "      border-right-color: var(--fill-color);\n",
              "      border-top-color: var(--fill-color);\n",
              "    }\n",
              "    60% {\n",
              "      border-color: transparent;\n",
              "      border-right-color: var(--fill-color);\n",
              "    }\n",
              "    80% {\n",
              "      border-color: transparent;\n",
              "      border-right-color: var(--fill-color);\n",
              "      border-bottom-color: var(--fill-color);\n",
              "    }\n",
              "    90% {\n",
              "      border-color: transparent;\n",
              "      border-bottom-color: var(--fill-color);\n",
              "    }\n",
              "  }\n",
              "</style>\n",
              "\n",
              "  <script>\n",
              "    async function quickchart(key) {\n",
              "      const quickchartButtonEl =\n",
              "        document.querySelector('#' + key + ' button');\n",
              "      quickchartButtonEl.disabled = true;  // To prevent multiple clicks.\n",
              "      quickchartButtonEl.classList.add('colab-df-spinner');\n",
              "      try {\n",
              "        const charts = await google.colab.kernel.invokeFunction(\n",
              "            'suggestCharts', [key], {});\n",
              "      } catch (error) {\n",
              "        console.error('Error during call to suggestCharts:', error);\n",
              "      }\n",
              "      quickchartButtonEl.classList.remove('colab-df-spinner');\n",
              "      quickchartButtonEl.classList.add('colab-df-quickchart-complete');\n",
              "    }\n",
              "    (() => {\n",
              "      let quickchartButtonEl =\n",
              "        document.querySelector('#df-dc9d9931-c9e5-4957-a1fb-ae5258872d79 button');\n",
              "      quickchartButtonEl.style.display =\n",
              "        google.colab.kernel.accessAllowed ? 'block' : 'none';\n",
              "    })();\n",
              "  </script>\n",
              "</div>\n",
              "    </div>\n",
              "  </div>\n"
            ],
            "application/vnd.google.colaboratory.intrinsic+json": {
              "type": "dataframe",
              "variable_name": "prey_animal_rep_df",
              "summary": "{\n  \"name\": \"prey_animal_rep_df\",\n  \"rows\": 3,\n  \"fields\": [\n    {\n      \"column\": \"animal_reproductive_condition\",\n      \"properties\": {\n        \"dtype\": \"string\",\n        \"num_unique_values\": 3,\n        \"samples\": [\n          \"Neutered\",\n          \"Not fixed\",\n          \"Spayed\"\n        ],\n        \"semantic_type\": \"\",\n        \"description\": \"\"\n      }\n    },\n    {\n      \"column\": \"prey_p_month\",\n      \"properties\": {\n        \"dtype\": \"number\",\n        \"std\": 1.1688121543140195,\n        \"min\": 1.75,\n        \"max\": 3.841463414634146,\n        \"num_unique_values\": 3,\n        \"samples\": [\n          3.7,\n          1.75,\n          3.841463414634146\n        ],\n        \"semantic_type\": \"\",\n        \"description\": \"\"\n      }\n    }\n  ]\n}"
            }
          },
          "metadata": {},
          "execution_count": 42
        }
      ]
    },
    {
      "cell_type": "code",
      "source": [
        "x = prey_animal_rep_df.index\n",
        "y = [prey_animal_rep_df.values[0][0], prey_animal_rep_df.values[1][0], prey_animal_rep_df.values[2][0]]\n",
        "print(y, type(y))\n",
        "plt.bar(x, y)\n",
        "plt.title(\"Average prey_p_month by animal_reproductive_condition\")\n",
        "plt.ylabel('Average prey_p_month')\n",
        "plt.show()"
      ],
      "metadata": {
        "colab": {
          "base_uri": "https://localhost:8080/",
          "height": 469
        },
        "id": "-uN4K7miznxZ",
        "outputId": "17ef91cb-b44d-4f41-af35-33d687cfdaf8"
      },
      "execution_count": null,
      "outputs": [
        {
          "output_type": "stream",
          "name": "stdout",
          "text": [
            "[3.7, 1.75, 3.841463414634146] <class 'list'>\n"
          ]
        },
        {
          "output_type": "display_data",
          "data": {
            "text/plain": [
              "<Figure size 640x480 with 1 Axes>"
            ],
            "image/png": "[encoded data removed]"
          },
          "metadata": {}
        }
      ]
    },
    {
      "cell_type": "markdown",
      "source": [
        "Neutered and spayed cats have similiar average prey_p_month"
      ],
      "metadata": {
        "id": "hMPXOaTR1qQh"
      }
    },
    {
      "cell_type": "markdown",
      "source": [
        "# Average age by animal_reproductive_condition"
      ],
      "metadata": {
        "id": "05xDot6FTRk7"
      }
    },
    {
      "cell_type": "code",
      "source": [
        "df2[['animal_reproductive_condition', 'age_years']]\n",
        "\n",
        "spayed = [0, 0]\n",
        "neutered = [0, 0]\n",
        "not_fixed = [0, 0]\n",
        "\n",
        "\n",
        "\n",
        "rep = list(df2['animal_reproductive_condition'])\n",
        "age = list(df2['age_years'])\n",
        "\n",
        "print(len(rep), len(age))\n",
        "\n",
        "for i in range(len(rep)):\n",
        "  if rep[i] == 'Neutered':\n",
        "    neutered[0] += 1\n",
        "    if age[i] > 0:\n",
        "      neutered[1] += age[i]\n",
        "  elif rep[i] == 'Spayed':\n",
        "    spayed[0] += 1\n",
        "    spayed[1] += age[i]\n",
        "  elif rep[i] == 'Not fixed':\n",
        "    not_fixed[0] += 1\n",
        "    not_fixed[1] += age[i]\n",
        "\n",
        "\n",
        "data = [neutered, spayed, not_fixed]\n",
        "\n",
        "print(data)\n",
        "\n",
        "plt.bar(['Neutered', 'Spayed', 'Not fixed'], [i[1]/i[0] for i in data])\n",
        "plt.title(\"Average age by animal_reproductive_condition\")\n",
        "plt.ylabel(\"Average age\")\n",
        "plt.show()"
      ],
      "metadata": {
        "colab": {
          "base_uri": "https://localhost:8080/",
          "height": 487
        },
        "id": "Iq2AgGex2H8-",
        "outputId": "6c6109b0-6ca8-42af-d5ec-12cbe8998bc0"
      },
      "execution_count": null,
      "outputs": [
        {
          "output_type": "stream",
          "name": "stdout",
          "text": [
            "101 101\n",
            "[[55, 253.0], [41, 268.0], [2, 4.0]]\n"
          ]
        },
        {
          "output_type": "display_data",
          "data": {
            "text/plain": [
              "<Figure size 640x480 with 1 Axes>"
            ],
            "image/png": "[encoded data removed]"
          },
          "metadata": {}
        }
      ]
    },
    {
      "cell_type": "markdown",
      "source": [
        "Spayed cats have the highest average age  "
      ],
      "metadata": {
        "id": "CNVdqTJ-Ib7O"
      }
    },
    {
      "cell_type": "markdown",
      "source": [
        "# Average hrs_indoors by animal_reproductive_condition"
      ],
      "metadata": {
        "id": "6D9MpfwlTa7y"
      }
    },
    {
      "cell_type": "code",
      "source": [
        "df2[['animal_reproductive_condition', 'hrs_indoors']]\n",
        "\n",
        "spayed = [0, 0]\n",
        "neutered = [0, 0]\n",
        "not_fixed = [0, 0]\n",
        "\n",
        "\n",
        "\n",
        "rep = list(df2['animal_reproductive_condition'])\n",
        "hrs = list(df2['hrs_indoors'])\n",
        "\n",
        "print(len(rep), len(hrs))\n",
        "\n",
        "for i in range(len(rep)):\n",
        "  if rep[i] == 'Neutered':\n",
        "    neutered[0] += 1\n",
        "    neutered[1] += hrs[i]\n",
        "  elif rep[i] == 'Spayed':\n",
        "    spayed[0] += 1\n",
        "    spayed[1] += hrs[i]\n",
        "  elif rep[i] == 'Not fixed':\n",
        "    not_fixed[0] += 1\n",
        "    not_fixed[1] += hrs[i]\n",
        "\n",
        "data = [neutered, spayed, not_fixed]\n",
        "\n",
        "print(data)\n",
        "\n",
        "plt.bar(['Neutered', 'Spayed', 'Not fixed'], [i[1]/i[0] for i in data])\n",
        "\n",
        "for i in range(len(data)):\n",
        "  plt.text(i, round(data[i][1]/data[i][0] + 0.2, 2), str(round(data[i][1]/data[i][0], 2)))\n",
        "  pass\n",
        "\n",
        "plt.title(\"Average hrs_indoors by animal_reproductive_condition\")\n",
        "plt.ylabel(\"hrs_indoors\")\n",
        "plt.show()"
      ],
      "metadata": {
        "colab": {
          "base_uri": "https://localhost:8080/",
          "height": 487
        },
        "id": "ZniQhxrOJGbd",
        "outputId": "9e490a41-e55f-4ae4-846e-eef8ef873a50"
      },
      "execution_count": null,
      "outputs": [
        {
          "output_type": "stream",
          "name": "stdout",
          "text": [
            "101 101\n",
            "[[55, 622.5], [41, 527.5], [2, 15.0]]\n"
          ]
        },
        {
          "output_type": "display_data",
          "data": {
            "text/plain": [
              "<Figure size 640x480 with 1 Axes>"
            ],
            "image/png": "[encoded data removed]"
          },
          "metadata": {}
        }
      ]
    },
    {
      "cell_type": "markdown",
      "source": [
        "Spayed cats the highest average hrs_indoors value."
      ],
      "metadata": {
        "id": "4XmcpYUhN1cn"
      }
    },
    {
      "cell_type": "markdown",
      "source": [
        "# Number of cats in houses\n",
        "\n"
      ],
      "metadata": {
        "id": "qQPBV-I_VIby"
      }
    },
    {
      "cell_type": "code",
      "source": [
        "x = list(df2['n_cats'].value_counts().index)\n",
        "y = list(df2['n_cats'].value_counts().values)\n",
        "\n",
        "sorted_list = [(x[i], y[i]) for i in range(len(x))]\n",
        "sorted_list.sort(key=lambda x: x[0])\n",
        "sorted_list\n",
        "\n",
        "x = list(\"1234\")\n",
        "y = [i[1] for i in sorted_list]\n",
        "\n",
        "plt.bar(x, y)\n",
        "plt.title(\"The number of cats in the houses\")\n",
        "plt.xlabel(\"Number of cats\")\n",
        "plt.ylabel(\"Number of households\")\n",
        "plt.show()"
      ],
      "metadata": {
        "colab": {
          "base_uri": "https://localhost:8080/",
          "height": 472
        },
        "id": "8gxKeX8YOKM0",
        "outputId": "cb83073e-42a3-4c71-fbd2-c0a2ecd0639a"
      },
      "execution_count": null,
      "outputs": [
        {
          "output_type": "display_data",
          "data": {
            "text/plain": [
              "<Figure size 640x480 with 1 Axes>"
            ],
            "image/png": "[encoded data removed]"
          },
          "metadata": {}
        }
      ]
    },
    {
      "cell_type": "markdown",
      "source": [
        "Two cats are the most common in the houses."
      ],
      "metadata": {
        "id": "KQ4OpIPBQkJU"
      }
    },
    {
      "cell_type": "markdown",
      "source": [
        "# Food consumption"
      ],
      "metadata": {
        "id": "cTJX6eg8DIEs"
      }
    },
    {
      "cell_type": "code",
      "source": [
        "dry = df2['food_dry'].value_counts().values[0]\n",
        "wet = df2['food_wet'].value_counts().values[0]\n",
        "other = df2['food_other'].value_counts().values[0]\n",
        "\n",
        "plt.bar(['Dry', 'Wet', 'Other'], [dry, wet, other])\n",
        "plt.title('Food consumption')\n",
        "plt.xlabel('Type of food')\n",
        "plt.ylabel('Number of cats')\n",
        "plt.show()"
      ],
      "metadata": {
        "colab": {
          "base_uri": "https://localhost:8080/",
          "height": 472
        },
        "id": "-LsUqv89vZUG",
        "outputId": "5138ca8e-8f31-44d7-ec03-727870f8e582"
      },
      "execution_count": null,
      "outputs": [
        {
          "output_type": "display_data",
          "data": {
            "text/plain": [
              "<Figure size 640x480 with 1 Axes>"
            ],
            "image/png": "[encoded data removed]"
          },
          "metadata": {}
        }
      ]
    },
    {
      "cell_type": "markdown",
      "source": [
        "The biggest number of cats consume dry food."
      ],
      "metadata": {
        "id": "b4uzaVYQz6Ph"
      }
    },
    {
      "cell_type": "code",
      "source": [
        "df1.head(5)"
      ],
      "metadata": {
        "colab": {
          "base_uri": "https://localhost:8080/",
          "height": 400
        },
        "id": "eduS5qyWgwQl",
        "outputId": "9b1687ff-e1b7-4b82-bd63-1a54cd508297"
      },
      "execution_count": null,
      "outputs": [
        {
          "output_type": "execute_result",
          "data": {
            "text/plain": [
              "  tag_id    event_id  visible             timestamp  location_long  \\\n",
              "0   Ares  3395610551     True  2017-06-24T01:03:57Z      -5.113851   \n",
              "1   Ares  3395610552     True  2017-06-24T01:11:20Z      -5.113851   \n",
              "2   Ares  3395610553     True  2017-06-24T02:58:16Z      -5.113730   \n",
              "3   Ares  3395610554     True  2017-06-24T03:01:26Z      -5.113774   \n",
              "4   Ares  3395610555     True  2017-06-24T03:51:58Z      -5.114247   \n",
              "\n",
              "   location_lat  ground_speed  height_above_ellipsoid  \\\n",
              "0     50.170315           684                  154.67   \n",
              "1     50.170315           936                  154.67   \n",
              "2     50.169876          2340                   81.35   \n",
              "3     50.169827             0                   67.82   \n",
              "4     50.170139          4896                  118.03   \n",
              "\n",
              "   algorithm_marked_outlier  manually_marked_outlier               study_name  \n",
              "0                     False                    False  Pet Cats United Kingdom  \n",
              "1                     False                    False  Pet Cats United Kingdom  \n",
              "2                     False                    False  Pet Cats United Kingdom  \n",
              "3                     False                    False  Pet Cats United Kingdom  \n",
              "4                     False                    False  Pet Cats United Kingdom  "
            ],
            "text/html": [
              "\n",
              "  <div id=\"df-37640851-ce52-4651-8d0c-fec64b309a80\" class=\"colab-df-container\">\n",
              "    <div>\n",
              "<style scoped>\n",
              "    .dataframe tbody tr th:only-of-type {\n",
              "        vertical-align: middle;\n",
              "    }\n",
              "\n",
              "    .dataframe tbody tr th {\n",
              "        vertical-align: top;\n",
              "    }\n",
              "\n",
              "    .dataframe thead th {\n",
              "        text-align: right;\n",
              "    }\n",
              "</style>\n",
              "<table border=\"1\" class=\"dataframe\">\n",
              "  <thead>\n",
              "    <tr style=\"text-align: right;\">\n",
              "      <th></th>\n",
              "      <th>tag_id</th>\n",
              "      <th>event_id</th>\n",
              "      <th>visible</th>\n",
              "      <th>timestamp</th>\n",
              "      <th>location_long</th>\n",
              "      <th>location_lat</th>\n",
              "      <th>ground_speed</th>\n",
              "      <th>height_above_ellipsoid</th>\n",
              "      <th>algorithm_marked_outlier</th>\n",
              "      <th>manually_marked_outlier</th>\n",
              "      <th>study_name</th>\n",
              "    </tr>\n",
              "  </thead>\n",
              "  <tbody>\n",
              "    <tr>\n",
              "      <th>0</th>\n",
              "      <td>Ares</td>\n",
              "      <td>3395610551</td>\n",
              "      <td>True</td>\n",
              "      <td>2017-06-24T01:03:57Z</td>\n",
              "      <td>-5.113851</td>\n",
              "      <td>50.170315</td>\n",
              "      <td>684</td>\n",
              "      <td>154.67</td>\n",
              "      <td>False</td>\n",
              "      <td>False</td>\n",
              "      <td>Pet Cats United Kingdom</td>\n",
              "    </tr>\n",
              "    <tr>\n",
              "      <th>1</th>\n",
              "      <td>Ares</td>\n",
              "      <td>3395610552</td>\n",
              "      <td>True</td>\n",
              "      <td>2017-06-24T01:11:20Z</td>\n",
              "      <td>-5.113851</td>\n",
              "      <td>50.170315</td>\n",
              "      <td>936</td>\n",
              "      <td>154.67</td>\n",
              "      <td>False</td>\n",
              "      <td>False</td>\n",
              "      <td>Pet Cats United Kingdom</td>\n",
              "    </tr>\n",
              "    <tr>\n",
              "      <th>2</th>\n",
              "      <td>Ares</td>\n",
              "      <td>3395610553</td>\n",
              "      <td>True</td>\n",
              "      <td>2017-06-24T02:58:16Z</td>\n",
              "      <td>-5.113730</td>\n",
              "      <td>50.169876</td>\n",
              "      <td>2340</td>\n",
              "      <td>81.35</td>\n",
              "      <td>False</td>\n",
              "      <td>False</td>\n",
              "      <td>Pet Cats United Kingdom</td>\n",
              "    </tr>\n",
              "    <tr>\n",
              "      <th>3</th>\n",
              "      <td>Ares</td>\n",
              "      <td>3395610554</td>\n",
              "      <td>True</td>\n",
              "      <td>2017-06-24T03:01:26Z</td>\n",
              "      <td>-5.113774</td>\n",
              "      <td>50.169827</td>\n",
              "      <td>0</td>\n",
              "      <td>67.82</td>\n",
              "      <td>False</td>\n",
              "      <td>False</td>\n",
              "      <td>Pet Cats United Kingdom</td>\n",
              "    </tr>\n",
              "    <tr>\n",
              "      <th>4</th>\n",
              "      <td>Ares</td>\n",
              "      <td>3395610555</td>\n",
              "      <td>True</td>\n",
              "      <td>2017-06-24T03:51:58Z</td>\n",
              "      <td>-5.114247</td>\n",
              "      <td>50.170139</td>\n",
              "      <td>4896</td>\n",
              "      <td>118.03</td>\n",
              "      <td>False</td>\n",
              "      <td>False</td>\n",
              "      <td>Pet Cats United Kingdom</td>\n",
              "    </tr>\n",
              "  </tbody>\n",
              "</table>\n",
              "</div>\n",
              "    <div class=\"colab-df-buttons\">\n",
              "\n",
              "  <div class=\"colab-df-container\">\n",
              "    <button class=\"colab-df-convert\" onclick=\"convertToInteractive('df-37640851-ce52-4651-8d0c-fec64b309a80')\"\n",
              "            title=\"Convert this dataframe to an interactive table.\"\n",
              "            style=\"display:none;\">\n",
              "\n",
              "  <svg xmlns=\"http://www.w3.org/2000/svg\" height=\"24px\" viewBox=\"0 -960 960 960\">\n",
              "    <path d=\"M120-120v-720h720v720H120Zm60-500h600v-160H180v160Zm220 220h160v-160H400v160Zm0 220h160v-160H400v160ZM180-400h160v-160H180v160Zm440 0h160v-160H620v160ZM180-180h160v-160H180v160Zm440 0h160v-160H620v160Z\"/>\n",
              "  </svg>\n",
              "    </button>\n",
              "\n",
              "  <style>\n",
              "    .colab-df-container {\n",
              "      display:flex;\n",
              "      gap: 12px;\n",
              "    }\n",
              "\n",
              "    .colab-df-convert {\n",
              "      background-color: #E8F0FE;\n",
              "      border: none;\n",
              "      border-radius: 50%;\n",
              "      cursor: pointer;\n",
              "      display: none;\n",
              "      fill: #1967D2;\n",
              "      height: 32px;\n",
              "      padding: 0 0 0 0;\n",
              "      width: 32px;\n",
              "    }\n",
              "\n",
              "    .colab-df-convert:hover {\n",
              "      background-color: #E2EBFA;\n",
              "      box-shadow: 0px 1px 2px rgba(60, 64, 67, 0.3), 0px 1px 3px 1px rgba(60, 64, 67, 0.15);\n",
              "      fill: #174EA6;\n",
              "    }\n",
              "\n",
              "    .colab-df-buttons div {\n",
              "      margin-bottom: 4px;\n",
              "    }\n",
              "\n",
              "    [theme=dark] .colab-df-convert {\n",
              "      background-color: #3B4455;\n",
              "      fill: #D2E3FC;\n",
              "    }\n",
              "\n",
              "    [theme=dark] .colab-df-convert:hover {\n",
              "      background-color: #434B5C;\n",
              "      box-shadow: 0px 1px 3px 1px rgba(0, 0, 0, 0.15);\n",
              "      filter: drop-shadow(0px 1px 2px rgba(0, 0, 0, 0.3));\n",
              "      fill: #FFFFFF;\n",
              "    }\n",
              "  </style>\n",
              "\n",
              "    <script>\n",
              "      const buttonEl =\n",
              "        document.querySelector('#df-37640851-ce52-4651-8d0c-fec64b309a80 button.colab-df-convert');\n",
              "      buttonEl.style.display =\n",
              "        google.colab.kernel.accessAllowed ? 'block' : 'none';\n",
              "\n",
              "      async function convertToInteractive(key) {\n",
              "        const element = document.querySelector('#df-37640851-ce52-4651-8d0c-fec64b309a80');\n",
              "        const dataTable =\n",
              "          await google.colab.kernel.invokeFunction('convertToInteractive',\n",
              "                                                    [key], {});\n",
              "        if (!dataTable) return;\n",
              "\n",
              "        const docLinkHtml = 'Like what you see? Visit the ' +\n",
              "          '<a target=\"_blank\" href=https://colab.research.google.com/notebooks/data_table.ipynb>data table notebook</a>'\n",
              "          + ' to learn more about interactive tables.';\n",
              "        element.innerHTML = '';\n",
              "        dataTable['output_type'] = 'display_data';\n",
              "        await google.colab.output.renderOutput(dataTable, element);\n",
              "        const docLink = document.createElement('div');\n",
              "        docLink.innerHTML = docLinkHtml;\n",
              "        element.appendChild(docLink);\n",
              "      }\n",
              "    </script>\n",
              "  </div>\n",
              "\n",
              "\n",
              "<div id=\"df-7b90ee42-20f1-41fd-b705-60dcdabc1c44\">\n",
              "  <button class=\"colab-df-quickchart\" onclick=\"quickchart('df-7b90ee42-20f1-41fd-b705-60dcdabc1c44')\"\n",
              "            title=\"Suggest charts\"\n",
              "            style=\"display:none;\">\n",
              "\n",
              "<svg xmlns=\"http://www.w3.org/2000/svg\" height=\"24px\"viewBox=\"0 0 24 24\"\n",
              "     width=\"24px\">\n",
              "    <g>\n",
              "        <path d=\"M19 3H5c-1.1 0-2 .9-2 2v14c0 1.1.9 2 2 2h14c1.1 0 2-.9 2-2V5c0-1.1-.9-2-2-2zM9 17H7v-7h2v7zm4 0h-2V7h2v10zm4 0h-2v-4h2v4z\"/>\n",
              "    </g>\n",
              "</svg>\n",
              "  </button>\n",
              "\n",
              "<style>\n",
              "  .colab-df-quickchart {\n",
              "      --bg-color: #E8F0FE;\n",
              "      --fill-color: #1967D2;\n",
              "      --hover-bg-color: #E2EBFA;\n",
              "      --hover-fill-color: #174EA6;\n",
              "      --disabled-fill-color: #AAA;\n",
              "      --disabled-bg-color: #DDD;\n",
              "  }\n",
              "\n",
              "  [theme=dark] .colab-df-quickchart {\n",
              "      --bg-color: #3B4455;\n",
              "      --fill-color: #D2E3FC;\n",
              "      --hover-bg-color: #434B5C;\n",
              "      --hover-fill-color: #FFFFFF;\n",
              "      --disabled-bg-color: #3B4455;\n",
              "      --disabled-fill-color: #666;\n",
              "  }\n",
              "\n",
              "  .colab-df-quickchart {\n",
              "    background-color: var(--bg-color);\n",
              "    border: none;\n",
              "    border-radius: 50%;\n",
              "    cursor: pointer;\n",
              "    display: none;\n",
              "    fill: var(--fill-color);\n",
              "    height: 32px;\n",
              "    padding: 0;\n",
              "    width: 32px;\n",
              "  }\n",
              "\n",
              "  .colab-df-quickchart:hover {\n",
              "    background-color: var(--hover-bg-color);\n",
              "    box-shadow: 0 1px 2px rgba(60, 64, 67, 0.3), 0 1px 3px 1px rgba(60, 64, 67, 0.15);\n",
              "    fill: var(--button-hover-fill-color);\n",
              "  }\n",
              "\n",
              "  .colab-df-quickchart-complete:disabled,\n",
              "  .colab-df-quickchart-complete:disabled:hover {\n",
              "    background-color: var(--disabled-bg-color);\n",
              "    fill: var(--disabled-fill-color);\n",
              "    box-shadow: none;\n",
              "  }\n",
              "\n",
              "  .colab-df-spinner {\n",
              "    border: 2px solid var(--fill-color);\n",
              "    border-color: transparent;\n",
              "    border-bottom-color: var(--fill-color);\n",
              "    animation:\n",
              "      spin 1s steps(1) infinite;\n",
              "  }\n",
              "\n",
              "  @keyframes spin {\n",
              "    0% {\n",
              "      border-color: transparent;\n",
              "      border-bottom-color: var(--fill-color);\n",
              "      border-left-color: var(--fill-color);\n",
              "    }\n",
              "    20% {\n",
              "      border-color: transparent;\n",
              "      border-left-color: var(--fill-color);\n",
              "      border-top-color: var(--fill-color);\n",
              "    }\n",
              "    30% {\n",
              "      border-color: transparent;\n",
              "      border-left-color: var(--fill-color);\n",
              "      border-top-color: var(--fill-color);\n",
              "      border-right-color: var(--fill-color);\n",
              "    }\n",
              "    40% {\n",
              "      border-color: transparent;\n",
              "      border-right-color: var(--fill-color);\n",
              "      border-top-color: var(--fill-color);\n",
              "    }\n",
              "    60% {\n",
              "      border-color: transparent;\n",
              "      border-right-color: var(--fill-color);\n",
              "    }\n",
              "    80% {\n",
              "      border-color: transparent;\n",
              "      border-right-color: var(--fill-color);\n",
              "      border-bottom-color: var(--fill-color);\n",
              "    }\n",
              "    90% {\n",
              "      border-color: transparent;\n",
              "      border-bottom-color: var(--fill-color);\n",
              "    }\n",
              "  }\n",
              "</style>\n",
              "\n",
              "  <script>\n",
              "    async function quickchart(key) {\n",
              "      const quickchartButtonEl =\n",
              "        document.querySelector('#' + key + ' button');\n",
              "      quickchartButtonEl.disabled = true;  // To prevent multiple clicks.\n",
              "      quickchartButtonEl.classList.add('colab-df-spinner');\n",
              "      try {\n",
              "        const charts = await google.colab.kernel.invokeFunction(\n",
              "            'suggestCharts', [key], {});\n",
              "      } catch (error) {\n",
              "        console.error('Error during call to suggestCharts:', error);\n",
              "      }\n",
              "      quickchartButtonEl.classList.remove('colab-df-spinner');\n",
              "      quickchartButtonEl.classList.add('colab-df-quickchart-complete');\n",
              "    }\n",
              "    (() => {\n",
              "      let quickchartButtonEl =\n",
              "        document.querySelector('#df-7b90ee42-20f1-41fd-b705-60dcdabc1c44 button');\n",
              "      quickchartButtonEl.style.display =\n",
              "        google.colab.kernel.accessAllowed ? 'block' : 'none';\n",
              "    })();\n",
              "  </script>\n",
              "</div>\n",
              "    </div>\n",
              "  </div>\n"
            ],
            "application/vnd.google.colaboratory.intrinsic+json": {
              "type": "dataframe",
              "variable_name": "df1",
              "summary": "{\n  \"name\": \"df1\",\n  \"rows\": 18215,\n  \"fields\": [\n    {\n      \"column\": \"tag_id\",\n      \"properties\": {\n        \"dtype\": \"category\",\n        \"num_unique_values\": 101,\n        \"samples\": [\n          \"Pants-Tag\",\n          \"Jezebel-Tag\",\n          \"Guinness-Tag\"\n        ],\n        \"semantic_type\": \"\",\n        \"description\": \"\"\n      }\n    },\n    {\n      \"column\": \"event_id\",\n      \"properties\": {\n        \"dtype\": \"number\",\n        \"std\": 193404826,\n        \"min\": 3395610551,\n        \"max\": 4149497980,\n        \"num_unique_values\": 18215,\n        \"samples\": [\n          3716218238,\n          3670269937,\n          3708864218\n        ],\n        \"semantic_type\": \"\",\n        \"description\": \"\"\n      }\n    },\n    {\n      \"column\": \"visible\",\n      \"properties\": {\n        \"dtype\": \"boolean\",\n        \"num_unique_values\": 2,\n        \"samples\": [\n          false,\n          true\n        ],\n        \"semantic_type\": \"\",\n        \"description\": \"\"\n      }\n    },\n    {\n      \"column\": \"timestamp\",\n      \"properties\": {\n        \"dtype\": \"object\",\n        \"num_unique_values\": 18162,\n        \"samples\": [\n          \"2017-07-30T09:14:00Z\",\n          \"2017-07-30T02:55:32Z\"\n        ],\n        \"semantic_type\": \"\",\n        \"description\": \"\"\n      }\n    },\n    {\n      \"column\": \"location_long\",\n      \"properties\": {\n        \"dtype\": \"number\",\n        \"std\": 0.30149883846010594,\n        \"min\": -5.758854,\n        \"max\": -4.208614,\n        \"num_unique_values\": 14968,\n        \"samples\": [\n          -4.839151,\n          -5.075045\n        ],\n        \"semantic_type\": \"\",\n        \"description\": \"\"\n      }\n    },\n    {\n      \"column\": \"location_lat\",\n      \"properties\": {\n        \"dtype\": \"number\",\n        \"std\": 0.15835336322804647,\n        \"min\": 50.103519,\n        \"max\": 50.882217,\n        \"num_unique_values\": 9396,\n        \"samples\": [\n          50.33831,\n          50.118603\n        ],\n        \"semantic_type\": \"\",\n        \"description\": \"\"\n      }\n    },\n    {\n      \"column\": \"ground_speed\",\n      \"properties\": {\n        \"dtype\": \"number\",\n        \"std\": 4592,\n        \"min\": 0,\n        \"max\": 277092,\n        \"num_unique_values\": 507,\n        \"samples\": [\n          4284,\n          20736\n        ],\n        \"semantic_type\": \"\",\n        \"description\": \"\"\n      }\n    },\n    {\n      \"column\": \"height_above_ellipsoid\",\n      \"properties\": {\n        \"dtype\": \"number\",\n        \"std\": 245.7056650767457,\n        \"min\": -550.07,\n        \"max\": 8388.26,\n        \"num_unique_values\": 11560,\n        \"samples\": [\n          14.95,\n          80.94\n        ],\n        \"semantic_type\": \"\",\n        \"description\": \"\"\n      }\n    },\n    {\n      \"column\": \"algorithm_marked_outlier\",\n      \"properties\": {\n        \"dtype\": \"boolean\",\n        \"num_unique_values\": 2,\n        \"samples\": [\n          true,\n          false\n        ],\n        \"semantic_type\": \"\",\n        \"description\": \"\"\n      }\n    },\n    {\n      \"column\": \"manually_marked_outlier\",\n      \"properties\": {\n        \"dtype\": \"boolean\",\n        \"num_unique_values\": 2,\n        \"samples\": [\n          true,\n          false\n        ],\n        \"semantic_type\": \"\",\n        \"description\": \"\"\n      }\n    },\n    {\n      \"column\": \"study_name\",\n      \"properties\": {\n        \"dtype\": \"category\",\n        \"num_unique_values\": 1,\n        \"samples\": [\n          \"Pet Cats United Kingdom\"\n        ],\n        \"semantic_type\": \"\",\n        \"description\": \"\"\n      }\n    }\n  ]\n}"
            }
          },
          "metadata": {},
          "execution_count": 49
        }
      ]
    },
    {
      "cell_type": "markdown",
      "source": [
        "# Mean and std for ground speed and height above ellpisoid"
      ],
      "metadata": {
        "id": "HntkeOLxDczu"
      }
    },
    {
      "cell_type": "code",
      "source": [
        "desc = df1['ground_speed'].describe().values\n",
        "mean = desc[1]\n",
        "std = desc[2]\n",
        "print(f\"The average ground speed: {round(mean, 2)}\\nThe std value: {round(std, 2)}\")"
      ],
      "metadata": {
        "colab": {
          "base_uri": "https://localhost:8080/"
        },
        "id": "PYltz4GH5kiG",
        "outputId": "7a08f3c7-73ef-48f7-f6f0-df00e753797a"
      },
      "execution_count": null,
      "outputs": [
        {
          "output_type": "stream",
          "name": "stdout",
          "text": [
            "The average ground speed: 1911.48\n",
            "The std value: 4592.57\n"
          ]
        }
      ]
    },
    {
      "cell_type": "code",
      "source": [
        "desc = df1['height_above_ellipsoid'].describe().values\n",
        "mean = desc[1]\n",
        "std = desc[2]\n",
        "print(f\"The average height_above_ellipsoid: {round(mean, 2)}\\nThe std value: {round(std, 2)}\")"
      ],
      "metadata": {
        "colab": {
          "base_uri": "https://localhost:8080/"
        },
        "id": "Rb49O4DarpPB",
        "outputId": "82be41a0-9eca-49a2-a32f-a9154b82f099"
      },
      "execution_count": null,
      "outputs": [
        {
          "output_type": "stream",
          "name": "stdout",
          "text": [
            "The average height_above_ellipsoid: 103.65\n",
            "The std value: 245.71\n"
          ]
        }
      ]
    },
    {
      "cell_type": "markdown",
      "source": [
        "# Location data of cats\n"
      ],
      "metadata": {
        "id": "WAmF2tpiDXbN"
      }
    },
    {
      "cell_type": "code",
      "source": [
        "plt.scatter(df1['location_long'], df1['location_lat'], alpha=0.5)\n",
        "plt.title('Location data of cats')\n",
        "plt.xlabel('Location_long')\n",
        "plt.ylabel('location_lat')"
      ],
      "metadata": {
        "colab": {
          "base_uri": "https://localhost:8080/",
          "height": 489
        },
        "id": "wO9yBRYinOF9",
        "outputId": "4a1a4d97-b944-4068-e7bb-c044241dfd1d"
      },
      "execution_count": null,
      "outputs": [
        {
          "output_type": "execute_result",
          "data": {
            "text/plain": [
              "Text(0, 0.5, 'location_lat')"
            ]
          },
          "metadata": {},
          "execution_count": 52
        },
        {
          "output_type": "display_data",
          "data": {
            "text/plain": [
              "<Figure size 640x480 with 1 Axes>"
            ],
            "image/png": "[encoded data removed]"
          },
          "metadata": {}
        }
      ]
    },
    {
      "cell_type": "markdown",
      "source": [
        "The location of cats is most dense between the location latitude 50.1 and 50.4 and location longitude -5.6 and -5.0"
      ],
      "metadata": {
        "id": "0iAxGwkmoeKy"
      }
    }
  ]
}